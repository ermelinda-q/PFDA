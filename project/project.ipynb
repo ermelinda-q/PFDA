{
 "cells": [
  {
   "cell_type": "markdown",
   "metadata": {},
   "source": [
    "# PFDA Project\n",
    "\n",
    "### by E. Qejvani\n",
    "***"
   ]
  },
  {
   "cell_type": "markdown",
   "metadata": {},
   "source": [
    "## Part 1 - Preparing the dataset.\n",
    "***\n",
    "\n",
    "* Uploading the libraries.\n",
    "* Keeping the information we are interested in.\n",
    "* Preparing the dataset for analyzing.\n",
    "    - Checking data types of the coulumns.\n",
    "    - Checking for empty value cells or NaN value cells.\n",
    "    - Cleaning the dataset."
   ]
  },
  {
   "cell_type": "code",
   "execution_count": 1,
   "metadata": {},
   "outputs": [],
   "source": [
    "# Importing the libraries.\n",
    "import pandas as pd \n",
    "import matplotlib.pyplot as plt\n",
    "import seaborn as sns \n",
    "# Importing project_functions file where I'm storing all the functions to use in this project. \n",
    "from project_functions import *         "
   ]
  },
  {
   "cell_type": "code",
   "execution_count": 2,
   "metadata": {},
   "outputs": [
    {
     "data": {
      "text/html": [
       "<div>\n",
       "<style scoped>\n",
       "    .dataframe tbody tr th:only-of-type {\n",
       "        vertical-align: middle;\n",
       "    }\n",
       "\n",
       "    .dataframe tbody tr th {\n",
       "        vertical-align: top;\n",
       "    }\n",
       "\n",
       "    .dataframe thead th {\n",
       "        text-align: right;\n",
       "    }\n",
       "</style>\n",
       "<table border=\"1\" class=\"dataframe\">\n",
       "  <thead>\n",
       "    <tr style=\"text-align: right;\">\n",
       "      <th></th>\n",
       "      <th>date</th>\n",
       "      <th>rain</th>\n",
       "      <th>temp</th>\n",
       "      <th>wetb</th>\n",
       "      <th>dewpt</th>\n",
       "      <th>rhum</th>\n",
       "      <th>vappr</th>\n",
       "      <th>msl</th>\n",
       "      <th>wdsp</th>\n",
       "      <th>wddir</th>\n",
       "    </tr>\n",
       "  </thead>\n",
       "  <tbody>\n",
       "    <tr>\n",
       "      <th>0</th>\n",
       "      <td>01-jan-1944 00:00</td>\n",
       "      <td>0.0</td>\n",
       "      <td>9.3</td>\n",
       "      <td>8.3</td>\n",
       "      <td>7.2</td>\n",
       "      <td>86</td>\n",
       "      <td>10.1</td>\n",
       "      <td>1034.3</td>\n",
       "      <td>12</td>\n",
       "      <td>300</td>\n",
       "    </tr>\n",
       "    <tr>\n",
       "      <th>1</th>\n",
       "      <td>01-jan-1944 01:00</td>\n",
       "      <td>0.0</td>\n",
       "      <td>8.9</td>\n",
       "      <td>8.2</td>\n",
       "      <td>7.2</td>\n",
       "      <td>90</td>\n",
       "      <td>10.3</td>\n",
       "      <td>1033.9</td>\n",
       "      <td>9</td>\n",
       "      <td>290</td>\n",
       "    </tr>\n",
       "    <tr>\n",
       "      <th>2</th>\n",
       "      <td>01-jan-1944 02:00</td>\n",
       "      <td>0.0</td>\n",
       "      <td>9.4</td>\n",
       "      <td>8.1</td>\n",
       "      <td>6.6</td>\n",
       "      <td>83</td>\n",
       "      <td>9.7</td>\n",
       "      <td>1033.4</td>\n",
       "      <td>11</td>\n",
       "      <td>280</td>\n",
       "    </tr>\n",
       "    <tr>\n",
       "      <th>3</th>\n",
       "      <td>01-jan-1944 03:00</td>\n",
       "      <td>0.0</td>\n",
       "      <td>9.3</td>\n",
       "      <td>8.3</td>\n",
       "      <td>7.2</td>\n",
       "      <td>86</td>\n",
       "      <td>10.2</td>\n",
       "      <td>1032.8</td>\n",
       "      <td>11</td>\n",
       "      <td>280</td>\n",
       "    </tr>\n",
       "    <tr>\n",
       "      <th>4</th>\n",
       "      <td>01-jan-1944 04:00</td>\n",
       "      <td>0.5</td>\n",
       "      <td>8.6</td>\n",
       "      <td>7.8</td>\n",
       "      <td>7.2</td>\n",
       "      <td>89</td>\n",
       "      <td>9.9</td>\n",
       "      <td>1032.4</td>\n",
       "      <td>11</td>\n",
       "      <td>300</td>\n",
       "    </tr>\n",
       "  </tbody>\n",
       "</table>\n",
       "</div>"
      ],
      "text/plain": [
       "                date rain temp wetb dewpt rhum vappr     msl wdsp wddir\n",
       "0  01-jan-1944 00:00  0.0  9.3  8.3   7.2   86  10.1  1034.3   12   300\n",
       "1  01-jan-1944 01:00  0.0  8.9  8.2   7.2   90  10.3  1033.9    9   290\n",
       "2  01-jan-1944 02:00  0.0  9.4  8.1   6.6   83   9.7  1033.4   11   280\n",
       "3  01-jan-1944 03:00  0.0  9.3  8.3   7.2   86  10.2  1032.8   11   280\n",
       "4  01-jan-1944 04:00  0.5  8.6  7.8   7.2   89   9.9  1032.4   11   300"
      ]
     },
     "execution_count": 2,
     "metadata": {},
     "output_type": "execute_result"
    }
   ],
   "source": [
    "# Uploading the dataset to my data frame, skipping the first 23 rows as the dataset starts at row 24. \n",
    "# Setting low_memory=False - easier to upload in big datasets.\n",
    "df = pd.read_csv('./data/data_valentia.csv', skiprows=23, low_memory=False)\n",
    "\n",
    "# Creating a subset using only the data I need for this project.\n",
    "# Two ways of doing it:\n",
    "df_valentia = df[['date', 'rain', 'temp', 'wetb', 'dewpt', 'rhum', 'vappr', 'msl', 'wdsp', 'wddir']].copy()\n",
    "# or:\n",
    "# df_valentia = df.drop(columns=['ww', 'sun', 'w', 'vis', 'clht', 'clamt', 'ind', 'ind.1', 'ind.2', 'ind.3', 'ind.4']) \n",
    "\n",
    "df_valentia.head(5)"
   ]
  },
  {
   "cell_type": "markdown",
   "metadata": {},
   "source": [
    "### Checking the dataset."
   ]
  },
  {
   "cell_type": "code",
   "execution_count": 3,
   "metadata": {},
   "outputs": [
    {
     "name": "stdout",
     "output_type": "stream",
     "text": [
      "<class 'pandas.core.frame.DataFrame'>\n",
      "RangeIndex: 709320 entries, 0 to 709319\n",
      "Data columns (total 10 columns):\n",
      " #   Column  Non-Null Count   Dtype \n",
      "---  ------  --------------   ----- \n",
      " 0   date    709320 non-null  object\n",
      " 1   rain    709320 non-null  object\n",
      " 2   temp    709320 non-null  object\n",
      " 3   wetb    709320 non-null  object\n",
      " 4   dewpt   709320 non-null  object\n",
      " 5   rhum    709320 non-null  object\n",
      " 6   vappr   709320 non-null  object\n",
      " 7   msl     709320 non-null  object\n",
      " 8   wdsp    709320 non-null  object\n",
      " 9   wddir   709320 non-null  object\n",
      "dtypes: object(10)\n",
      "memory usage: 54.1+ MB\n"
     ]
    }
   ],
   "source": [
    "# Information about our dataset.\n",
    "df_valentia.info()"
   ]
  },
  {
   "cell_type": "markdown",
   "metadata": {},
   "source": [
    "### Changing the data types in my dataset.\n",
    "\n",
    "As we can see from the above all data types in the dataset are object type. To change this I am going to:\n",
    "- Change the date column type to date type data.\n",
    "- Change the rest of the columns to float type data.\n",
    "- For both changes I'm creating a function in the `project_functions.py` file."
   ]
  },
  {
   "cell_type": "code",
   "execution_count": 4,
   "metadata": {},
   "outputs": [],
   "source": [
    "# \n",
    "columns_to_convert = ['rain', 'temp', 'wetb', 'dewpt', 'rhum', 'vappr', 'msl', 'wdsp', 'wddir']\n",
    "df_valentia = convert_columns_to_float(df_valentia, columns_to_convert)\n",
    "df_valentia['date'] = pd.to_datetime(df_valentia['date'], format=\"%d-%b-%Y %H:%M\", errors='coerce')\n",
    "# Setting the date as index\n",
    "df_valentia.set_index('date', inplace=True)"
   ]
  },
  {
   "cell_type": "code",
   "execution_count": 5,
   "metadata": {},
   "outputs": [
    {
     "name": "stdout",
     "output_type": "stream",
     "text": [
      "<class 'pandas.core.frame.DataFrame'>\n",
      "DatetimeIndex: 709320 entries, 1944-01-01 00:00:00 to 2024-12-01 00:00:00\n",
      "Data columns (total 9 columns):\n",
      " #   Column  Non-Null Count   Dtype  \n",
      "---  ------  --------------   -----  \n",
      " 0   rain    709278 non-null  float32\n",
      " 1   temp    709260 non-null  float32\n",
      " 2   wetb    709260 non-null  float32\n",
      " 3   dewpt   709260 non-null  float32\n",
      " 4   rhum    709260 non-null  float32\n",
      " 5   vappr   709260 non-null  float32\n",
      " 6   msl     709260 non-null  float32\n",
      " 7   wdsp    709275 non-null  float32\n",
      " 8   wddir   709211 non-null  float32\n",
      "dtypes: float32(9)\n",
      "memory usage: 29.8 MB\n"
     ]
    }
   ],
   "source": [
    "df_valentia.info()"
   ]
  },
  {
   "cell_type": "code",
   "execution_count": 6,
   "metadata": {},
   "outputs": [
    {
     "data": {
      "text/html": [
       "<div>\n",
       "<style scoped>\n",
       "    .dataframe tbody tr th:only-of-type {\n",
       "        vertical-align: middle;\n",
       "    }\n",
       "\n",
       "    .dataframe tbody tr th {\n",
       "        vertical-align: top;\n",
       "    }\n",
       "\n",
       "    .dataframe thead th {\n",
       "        text-align: right;\n",
       "    }\n",
       "</style>\n",
       "<table border=\"1\" class=\"dataframe\">\n",
       "  <thead>\n",
       "    <tr style=\"text-align: right;\">\n",
       "      <th></th>\n",
       "      <th>rain</th>\n",
       "      <th>temp</th>\n",
       "      <th>wetb</th>\n",
       "      <th>dewpt</th>\n",
       "      <th>rhum</th>\n",
       "      <th>vappr</th>\n",
       "      <th>msl</th>\n",
       "      <th>wdsp</th>\n",
       "      <th>wddir</th>\n",
       "    </tr>\n",
       "    <tr>\n",
       "      <th>date</th>\n",
       "      <th></th>\n",
       "      <th></th>\n",
       "      <th></th>\n",
       "      <th></th>\n",
       "      <th></th>\n",
       "      <th></th>\n",
       "      <th></th>\n",
       "      <th></th>\n",
       "      <th></th>\n",
       "    </tr>\n",
       "  </thead>\n",
       "  <tbody>\n",
       "    <tr>\n",
       "      <th>1944-01-01 00:00:00</th>\n",
       "      <td>0.0</td>\n",
       "      <td>9.3</td>\n",
       "      <td>8.3</td>\n",
       "      <td>7.2</td>\n",
       "      <td>86.0</td>\n",
       "      <td>10.1</td>\n",
       "      <td>1034.300049</td>\n",
       "      <td>12.0</td>\n",
       "      <td>300.0</td>\n",
       "    </tr>\n",
       "    <tr>\n",
       "      <th>1944-01-01 01:00:00</th>\n",
       "      <td>0.0</td>\n",
       "      <td>8.9</td>\n",
       "      <td>8.2</td>\n",
       "      <td>7.2</td>\n",
       "      <td>90.0</td>\n",
       "      <td>10.3</td>\n",
       "      <td>1033.900024</td>\n",
       "      <td>9.0</td>\n",
       "      <td>290.0</td>\n",
       "    </tr>\n",
       "    <tr>\n",
       "      <th>1944-01-01 02:00:00</th>\n",
       "      <td>0.0</td>\n",
       "      <td>9.4</td>\n",
       "      <td>8.1</td>\n",
       "      <td>6.6</td>\n",
       "      <td>83.0</td>\n",
       "      <td>9.7</td>\n",
       "      <td>1033.400024</td>\n",
       "      <td>11.0</td>\n",
       "      <td>280.0</td>\n",
       "    </tr>\n",
       "  </tbody>\n",
       "</table>\n",
       "</div>"
      ],
      "text/plain": [
       "                     rain  temp  wetb  dewpt  rhum  vappr          msl  wdsp  \\\n",
       "date                                                                           \n",
       "1944-01-01 00:00:00   0.0   9.3   8.3    7.2  86.0   10.1  1034.300049  12.0   \n",
       "1944-01-01 01:00:00   0.0   8.9   8.2    7.2  90.0   10.3  1033.900024   9.0   \n",
       "1944-01-01 02:00:00   0.0   9.4   8.1    6.6  83.0    9.7  1033.400024  11.0   \n",
       "\n",
       "                     wddir  \n",
       "date                        \n",
       "1944-01-01 00:00:00  300.0  \n",
       "1944-01-01 01:00:00  290.0  \n",
       "1944-01-01 02:00:00  280.0  "
      ]
     },
     "execution_count": 6,
     "metadata": {},
     "output_type": "execute_result"
    }
   ],
   "source": [
    "df_valentia.head(3)"
   ]
  },
  {
   "cell_type": "markdown",
   "metadata": {},
   "source": [
    "### Checking if any data is missing - NAN or null values."
   ]
  },
  {
   "cell_type": "code",
   "execution_count": 7,
   "metadata": {},
   "outputs": [],
   "source": [
    "# Checking for missing data.\n",
    "# df_valentia.isnull().sum()\n",
    "# df_valentia.isna().sum()\n",
    "# (df_valentia == ' ').sum()"
   ]
  },
  {
   "cell_type": "markdown",
   "metadata": {},
   "source": [
    "### Checking for single space values `' '`"
   ]
  },
  {
   "cell_type": "markdown",
   "metadata": {},
   "source": [
    "In Assignment Six of this module, I found out that using `.isna()` and `.isnull()` alone is insufficient for cleaning the dataset. Sometimes, cells can contain an empty value represented by a single space (stored as a string). Therefore, in the next section, I will check for any cells that contain a single space as their value."
   ]
  },
  {
   "cell_type": "markdown",
   "metadata": {},
   "source": [
    "### Counting the rows that hold empty cells.\n",
    "\n",
    "* I created a function in the `project_functions` file that counts all the rows that hold empty cells. "
   ]
  },
  {
   "cell_type": "code",
   "execution_count": 8,
   "metadata": {},
   "outputs": [
    {
     "name": "stdout",
     "output_type": "stream",
     "text": [
      "Rows with 0 empty cells: 709144\n",
      "Rows with 1 empty cells: 75\n",
      "Rows with 2 empty cells: 41\n",
      "Rows with 6 empty cells: 22\n",
      "Rows with 7 empty cells: 37\n",
      "Rows with 8 empty cells: 1\n",
      "Total rows with at least one empty values: 176\n"
     ]
    },
    {
     "data": {
      "text/plain": [
       "176"
      ]
     },
     "execution_count": 8,
     "metadata": {},
     "output_type": "execute_result"
    }
   ],
   "source": [
    "# calling the funtion from the 'project_functions.py' file.\n",
    "count_rows_with_empty_or_space_cells_detail(df_valentia)"
   ]
  },
  {
   "cell_type": "markdown",
   "metadata": {},
   "source": [
    "### Cleaning the rows with empty cells.\n",
    "\n",
    "* Because of the big size of the dataset (709320 records) I decided to remove all the rows that contain empty cells.\n",
    "* The total records after removing 176 rows becomes 709144."
   ]
  },
  {
   "cell_type": "code",
   "execution_count": 9,
   "metadata": {},
   "outputs": [
    {
     "name": "stdout",
     "output_type": "stream",
     "text": [
      "<class 'pandas.core.frame.DataFrame'>\n",
      "DatetimeIndex: 709144 entries, 1944-01-01 00:00:00 to 2024-12-01 00:00:00\n",
      "Data columns (total 9 columns):\n",
      " #   Column  Non-Null Count   Dtype  \n",
      "---  ------  --------------   -----  \n",
      " 0   rain    709144 non-null  float32\n",
      " 1   temp    709144 non-null  float32\n",
      " 2   wetb    709144 non-null  float32\n",
      " 3   dewpt   709144 non-null  float32\n",
      " 4   rhum    709144 non-null  float32\n",
      " 5   vappr   709144 non-null  float32\n",
      " 6   msl     709144 non-null  float32\n",
      " 7   wdsp    709144 non-null  float32\n",
      " 8   wddir   709144 non-null  float32\n",
      "dtypes: float32(9)\n",
      "memory usage: 29.8 MB\n"
     ]
    }
   ],
   "source": [
    "df_valentia_clean = remove_rows_with_missing_data(df_valentia)\n",
    "df_valentia_clean.info()"
   ]
  },
  {
   "cell_type": "markdown",
   "metadata": {},
   "source": [
    "### Converting wind speed to miles per hour.\n",
    "\n",
    "To convert the wind speed (wdsp) from knots to miles per hour, I will use the conversion factor of 1 knot = 1.15078 miles per hour. In the dataset, wind speed is currently measured in knots, representing the speed of the wind in nautical miles per hour. For my analysis, I need the wind speed expressed in miles per hour. To achieve this, I will create a new column in the df_valentia dataset to store the wind speed values converted to miles per hour."
   ]
  },
  {
   "cell_type": "code",
   "execution_count": 10,
   "metadata": {},
   "outputs": [],
   "source": [
    "# Create a new column with the windspeed in metre/second\n",
    "df_valentia['wdsp_m/s'] = (df_valentia['wdsp'] * 0.51444).round(2)"
   ]
  },
  {
   "cell_type": "code",
   "execution_count": 11,
   "metadata": {},
   "outputs": [
    {
     "data": {
      "text/html": [
       "<div>\n",
       "<style scoped>\n",
       "    .dataframe tbody tr th:only-of-type {\n",
       "        vertical-align: middle;\n",
       "    }\n",
       "\n",
       "    .dataframe tbody tr th {\n",
       "        vertical-align: top;\n",
       "    }\n",
       "\n",
       "    .dataframe thead th {\n",
       "        text-align: right;\n",
       "    }\n",
       "</style>\n",
       "<table border=\"1\" class=\"dataframe\">\n",
       "  <thead>\n",
       "    <tr style=\"text-align: right;\">\n",
       "      <th></th>\n",
       "      <th>rain</th>\n",
       "      <th>temp</th>\n",
       "      <th>wetb</th>\n",
       "      <th>dewpt</th>\n",
       "      <th>rhum</th>\n",
       "      <th>vappr</th>\n",
       "      <th>msl</th>\n",
       "      <th>wdsp</th>\n",
       "      <th>wddir</th>\n",
       "      <th>wdsp_m/s</th>\n",
       "    </tr>\n",
       "    <tr>\n",
       "      <th>date</th>\n",
       "      <th></th>\n",
       "      <th></th>\n",
       "      <th></th>\n",
       "      <th></th>\n",
       "      <th></th>\n",
       "      <th></th>\n",
       "      <th></th>\n",
       "      <th></th>\n",
       "      <th></th>\n",
       "      <th></th>\n",
       "    </tr>\n",
       "  </thead>\n",
       "  <tbody>\n",
       "    <tr>\n",
       "      <th>1944-01-01 00:00:00</th>\n",
       "      <td>0.0</td>\n",
       "      <td>9.3</td>\n",
       "      <td>8.3</td>\n",
       "      <td>7.2</td>\n",
       "      <td>86.0</td>\n",
       "      <td>10.1</td>\n",
       "      <td>1034.300049</td>\n",
       "      <td>12.0</td>\n",
       "      <td>300.0</td>\n",
       "      <td>6.17</td>\n",
       "    </tr>\n",
       "    <tr>\n",
       "      <th>1944-01-01 01:00:00</th>\n",
       "      <td>0.0</td>\n",
       "      <td>8.9</td>\n",
       "      <td>8.2</td>\n",
       "      <td>7.2</td>\n",
       "      <td>90.0</td>\n",
       "      <td>10.3</td>\n",
       "      <td>1033.900024</td>\n",
       "      <td>9.0</td>\n",
       "      <td>290.0</td>\n",
       "      <td>4.63</td>\n",
       "    </tr>\n",
       "    <tr>\n",
       "      <th>1944-01-01 02:00:00</th>\n",
       "      <td>0.0</td>\n",
       "      <td>9.4</td>\n",
       "      <td>8.1</td>\n",
       "      <td>6.6</td>\n",
       "      <td>83.0</td>\n",
       "      <td>9.7</td>\n",
       "      <td>1033.400024</td>\n",
       "      <td>11.0</td>\n",
       "      <td>280.0</td>\n",
       "      <td>5.66</td>\n",
       "    </tr>\n",
       "    <tr>\n",
       "      <th>1944-01-01 03:00:00</th>\n",
       "      <td>0.0</td>\n",
       "      <td>9.3</td>\n",
       "      <td>8.3</td>\n",
       "      <td>7.2</td>\n",
       "      <td>86.0</td>\n",
       "      <td>10.2</td>\n",
       "      <td>1032.800049</td>\n",
       "      <td>11.0</td>\n",
       "      <td>280.0</td>\n",
       "      <td>5.66</td>\n",
       "    </tr>\n",
       "    <tr>\n",
       "      <th>1944-01-01 04:00:00</th>\n",
       "      <td>0.5</td>\n",
       "      <td>8.6</td>\n",
       "      <td>7.8</td>\n",
       "      <td>7.2</td>\n",
       "      <td>89.0</td>\n",
       "      <td>9.9</td>\n",
       "      <td>1032.400024</td>\n",
       "      <td>11.0</td>\n",
       "      <td>300.0</td>\n",
       "      <td>5.66</td>\n",
       "    </tr>\n",
       "  </tbody>\n",
       "</table>\n",
       "</div>"
      ],
      "text/plain": [
       "                     rain  temp  wetb  dewpt  rhum  vappr          msl  wdsp  \\\n",
       "date                                                                           \n",
       "1944-01-01 00:00:00   0.0   9.3   8.3    7.2  86.0   10.1  1034.300049  12.0   \n",
       "1944-01-01 01:00:00   0.0   8.9   8.2    7.2  90.0   10.3  1033.900024   9.0   \n",
       "1944-01-01 02:00:00   0.0   9.4   8.1    6.6  83.0    9.7  1033.400024  11.0   \n",
       "1944-01-01 03:00:00   0.0   9.3   8.3    7.2  86.0   10.2  1032.800049  11.0   \n",
       "1944-01-01 04:00:00   0.5   8.6   7.8    7.2  89.0    9.9  1032.400024  11.0   \n",
       "\n",
       "                     wddir  wdsp_m/s  \n",
       "date                                  \n",
       "1944-01-01 00:00:00  300.0      6.17  \n",
       "1944-01-01 01:00:00  290.0      4.63  \n",
       "1944-01-01 02:00:00  280.0      5.66  \n",
       "1944-01-01 03:00:00  280.0      5.66  \n",
       "1944-01-01 04:00:00  300.0      5.66  "
      ]
     },
     "execution_count": 11,
     "metadata": {},
     "output_type": "execute_result"
    }
   ],
   "source": [
    "df_valentia.head()"
   ]
  },
  {
   "cell_type": "code",
   "execution_count": 12,
   "metadata": {},
   "outputs": [
    {
     "data": {
      "text/html": [
       "<div>\n",
       "<style scoped>\n",
       "    .dataframe tbody tr th:only-of-type {\n",
       "        vertical-align: middle;\n",
       "    }\n",
       "\n",
       "    .dataframe tbody tr th {\n",
       "        vertical-align: top;\n",
       "    }\n",
       "\n",
       "    .dataframe thead th {\n",
       "        text-align: right;\n",
       "    }\n",
       "</style>\n",
       "<table border=\"1\" class=\"dataframe\">\n",
       "  <thead>\n",
       "    <tr style=\"text-align: right;\">\n",
       "      <th></th>\n",
       "      <th>rain</th>\n",
       "      <th>temp</th>\n",
       "      <th>wetb</th>\n",
       "      <th>dewpt</th>\n",
       "      <th>rhum</th>\n",
       "      <th>vappr</th>\n",
       "      <th>msl</th>\n",
       "      <th>wddir</th>\n",
       "      <th>wdsp_m/s</th>\n",
       "    </tr>\n",
       "    <tr>\n",
       "      <th>date</th>\n",
       "      <th></th>\n",
       "      <th></th>\n",
       "      <th></th>\n",
       "      <th></th>\n",
       "      <th></th>\n",
       "      <th></th>\n",
       "      <th></th>\n",
       "      <th></th>\n",
       "      <th></th>\n",
       "    </tr>\n",
       "  </thead>\n",
       "  <tbody>\n",
       "    <tr>\n",
       "      <th>1944-01-01 00:00:00</th>\n",
       "      <td>0.0</td>\n",
       "      <td>9.3</td>\n",
       "      <td>8.3</td>\n",
       "      <td>7.2</td>\n",
       "      <td>86.0</td>\n",
       "      <td>10.1</td>\n",
       "      <td>1034.300049</td>\n",
       "      <td>300.0</td>\n",
       "      <td>6.17</td>\n",
       "    </tr>\n",
       "    <tr>\n",
       "      <th>1944-01-01 01:00:00</th>\n",
       "      <td>0.0</td>\n",
       "      <td>8.9</td>\n",
       "      <td>8.2</td>\n",
       "      <td>7.2</td>\n",
       "      <td>90.0</td>\n",
       "      <td>10.3</td>\n",
       "      <td>1033.900024</td>\n",
       "      <td>290.0</td>\n",
       "      <td>4.63</td>\n",
       "    </tr>\n",
       "    <tr>\n",
       "      <th>1944-01-01 02:00:00</th>\n",
       "      <td>0.0</td>\n",
       "      <td>9.4</td>\n",
       "      <td>8.1</td>\n",
       "      <td>6.6</td>\n",
       "      <td>83.0</td>\n",
       "      <td>9.7</td>\n",
       "      <td>1033.400024</td>\n",
       "      <td>280.0</td>\n",
       "      <td>5.66</td>\n",
       "    </tr>\n",
       "    <tr>\n",
       "      <th>1944-01-01 03:00:00</th>\n",
       "      <td>0.0</td>\n",
       "      <td>9.3</td>\n",
       "      <td>8.3</td>\n",
       "      <td>7.2</td>\n",
       "      <td>86.0</td>\n",
       "      <td>10.2</td>\n",
       "      <td>1032.800049</td>\n",
       "      <td>280.0</td>\n",
       "      <td>5.66</td>\n",
       "    </tr>\n",
       "    <tr>\n",
       "      <th>1944-01-01 04:00:00</th>\n",
       "      <td>0.5</td>\n",
       "      <td>8.6</td>\n",
       "      <td>7.8</td>\n",
       "      <td>7.2</td>\n",
       "      <td>89.0</td>\n",
       "      <td>9.9</td>\n",
       "      <td>1032.400024</td>\n",
       "      <td>300.0</td>\n",
       "      <td>5.66</td>\n",
       "    </tr>\n",
       "  </tbody>\n",
       "</table>\n",
       "</div>"
      ],
      "text/plain": [
       "                     rain  temp  wetb  dewpt  rhum  vappr          msl  wddir  \\\n",
       "date                                                                            \n",
       "1944-01-01 00:00:00   0.0   9.3   8.3    7.2  86.0   10.1  1034.300049  300.0   \n",
       "1944-01-01 01:00:00   0.0   8.9   8.2    7.2  90.0   10.3  1033.900024  290.0   \n",
       "1944-01-01 02:00:00   0.0   9.4   8.1    6.6  83.0    9.7  1033.400024  280.0   \n",
       "1944-01-01 03:00:00   0.0   9.3   8.3    7.2  86.0   10.2  1032.800049  280.0   \n",
       "1944-01-01 04:00:00   0.5   8.6   7.8    7.2  89.0    9.9  1032.400024  300.0   \n",
       "\n",
       "                     wdsp_m/s  \n",
       "date                           \n",
       "1944-01-01 00:00:00      6.17  \n",
       "1944-01-01 01:00:00      4.63  \n",
       "1944-01-01 02:00:00      5.66  \n",
       "1944-01-01 03:00:00      5.66  \n",
       "1944-01-01 04:00:00      5.66  "
      ]
     },
     "execution_count": 12,
     "metadata": {},
     "output_type": "execute_result"
    }
   ],
   "source": [
    "df_valentia = df_valentia.drop(columns=['wdsp'])\n",
    "df_valentia.head()"
   ]
  },
  {
   "cell_type": "code",
   "execution_count": 13,
   "metadata": {},
   "outputs": [
    {
     "name": "stdout",
     "output_type": "stream",
     "text": [
      "<class 'pandas.core.frame.DataFrame'>\n",
      "DatetimeIndex: 709320 entries, 1944-01-01 00:00:00 to 2024-12-01 00:00:00\n",
      "Data columns (total 9 columns):\n",
      " #   Column    Non-Null Count   Dtype  \n",
      "---  ------    --------------   -----  \n",
      " 0   rain      709278 non-null  float32\n",
      " 1   temp      709260 non-null  float32\n",
      " 2   wetb      709260 non-null  float32\n",
      " 3   dewpt     709260 non-null  float32\n",
      " 4   rhum      709260 non-null  float32\n",
      " 5   vappr     709260 non-null  float32\n",
      " 6   msl       709260 non-null  float32\n",
      " 7   wddir     709211 non-null  float32\n",
      " 8   wdsp_m/s  709275 non-null  float32\n",
      "dtypes: float32(9)\n",
      "memory usage: 29.8 MB\n"
     ]
    },
    {
     "data": {
      "text/plain": [
       "Index(['rain', 'temp', 'wetb', 'dewpt', 'rhum', 'vappr', 'msl', 'wddir',\n",
       "       'wdsp_m/s'],\n",
       "      dtype='object')"
      ]
     },
     "execution_count": 13,
     "metadata": {},
     "output_type": "execute_result"
    }
   ],
   "source": [
    "df_valentia.info()\n",
    "df_valentia.columns"
   ]
  },
  {
   "cell_type": "markdown",
   "metadata": {},
   "source": [
    "### Correlation between wind and other data"
   ]
  },
  {
   "cell_type": "code",
   "execution_count": 14,
   "metadata": {},
   "outputs": [
    {
     "data": {
      "image/png": "[encoded data removed]",
      "text/plain": [
       "<Figure size 1000x800 with 2 Axes>"
      ]
     },
     "metadata": {},
     "output_type": "display_data"
    }
   ],
   "source": [
    "# Selecting columns to for correlation analysis between wind and other information we have.\n",
    "selected_columns = ['wdsp_m/s','rain', 'temp', 'wetb', 'dewpt', 'rhum', 'vappr', 'msl', 'wddir']\n",
    "correlation_df = df_valentia[selected_columns]\n",
    "\n",
    "# Calculating the correlation matrix\n",
    "correlation_matrix = correlation_df.corr()\n",
    "\n",
    "# Visualize the correlation matrix with a heatmap\n",
    "plt.figure(figsize=(10, 8))\n",
    "sns.heatmap(correlation_matrix, annot=True, cmap='coolwarm', fmt='.2f', cbar=True)\n",
    "plt.title('Correlation Between Wind and other data collected')\n",
    "plt.show()"
   ]
  },
  {
   "cell_type": "markdown",
   "metadata": {},
   "source": [
    "As we can see from the above there is no direct connection between the wind speed and the other data we have.\n",
    "In the next section I will calculate the air density, add it as a new column and remove temp(temperature), vappr(vapor pressure) and msl(mean sea level pressure) columns as they are no longer needed."
   ]
  },
  {
   "cell_type": "code",
   "execution_count": 15,
   "metadata": {},
   "outputs": [
    {
     "data": {
      "text/html": [
       "<div>\n",
       "<style scoped>\n",
       "    .dataframe tbody tr th:only-of-type {\n",
       "        vertical-align: middle;\n",
       "    }\n",
       "\n",
       "    .dataframe tbody tr th {\n",
       "        vertical-align: top;\n",
       "    }\n",
       "\n",
       "    .dataframe thead th {\n",
       "        text-align: right;\n",
       "    }\n",
       "</style>\n",
       "<table border=\"1\" class=\"dataframe\">\n",
       "  <thead>\n",
       "    <tr style=\"text-align: right;\">\n",
       "      <th></th>\n",
       "      <th>rain</th>\n",
       "      <th>wetb</th>\n",
       "      <th>dewpt</th>\n",
       "      <th>rhum</th>\n",
       "      <th>wddir</th>\n",
       "      <th>wdsp_m/s</th>\n",
       "      <th>air_density</th>\n",
       "    </tr>\n",
       "    <tr>\n",
       "      <th>date</th>\n",
       "      <th></th>\n",
       "      <th></th>\n",
       "      <th></th>\n",
       "      <th></th>\n",
       "      <th></th>\n",
       "      <th></th>\n",
       "      <th></th>\n",
       "    </tr>\n",
       "  </thead>\n",
       "  <tbody>\n",
       "    <tr>\n",
       "      <th>1944-01-01 00:00:00</th>\n",
       "      <td>0.0</td>\n",
       "      <td>8.3</td>\n",
       "      <td>7.2</td>\n",
       "      <td>86.0</td>\n",
       "      <td>300.0</td>\n",
       "      <td>6.17</td>\n",
       "      <td>1.270988</td>\n",
       "    </tr>\n",
       "    <tr>\n",
       "      <th>1944-01-01 01:00:00</th>\n",
       "      <td>0.0</td>\n",
       "      <td>8.2</td>\n",
       "      <td>7.2</td>\n",
       "      <td>90.0</td>\n",
       "      <td>290.0</td>\n",
       "      <td>4.63</td>\n",
       "      <td>1.272203</td>\n",
       "    </tr>\n",
       "    <tr>\n",
       "      <th>1944-01-01 02:00:00</th>\n",
       "      <td>0.0</td>\n",
       "      <td>8.1</td>\n",
       "      <td>6.6</td>\n",
       "      <td>83.0</td>\n",
       "      <td>280.0</td>\n",
       "      <td>5.66</td>\n",
       "      <td>1.269615</td>\n",
       "    </tr>\n",
       "    <tr>\n",
       "      <th>1944-01-01 03:00:00</th>\n",
       "      <td>0.0</td>\n",
       "      <td>8.3</td>\n",
       "      <td>7.2</td>\n",
       "      <td>86.0</td>\n",
       "      <td>280.0</td>\n",
       "      <td>5.66</td>\n",
       "      <td>1.269091</td>\n",
       "    </tr>\n",
       "    <tr>\n",
       "      <th>1944-01-01 04:00:00</th>\n",
       "      <td>0.5</td>\n",
       "      <td>7.8</td>\n",
       "      <td>7.2</td>\n",
       "      <td>89.0</td>\n",
       "      <td>300.0</td>\n",
       "      <td>5.66</td>\n",
       "      <td>1.271890</td>\n",
       "    </tr>\n",
       "  </tbody>\n",
       "</table>\n",
       "</div>"
      ],
      "text/plain": [
       "                     rain  wetb  dewpt  rhum  wddir  wdsp_m/s  air_density\n",
       "date                                                                      \n",
       "1944-01-01 00:00:00   0.0   8.3    7.2  86.0  300.0      6.17     1.270988\n",
       "1944-01-01 01:00:00   0.0   8.2    7.2  90.0  290.0      4.63     1.272203\n",
       "1944-01-01 02:00:00   0.0   8.1    6.6  83.0  280.0      5.66     1.269615\n",
       "1944-01-01 03:00:00   0.0   8.3    7.2  86.0  280.0      5.66     1.269091\n",
       "1944-01-01 04:00:00   0.5   7.8    7.2  89.0  300.0      5.66     1.271890"
      ]
     },
     "execution_count": 15,
     "metadata": {},
     "output_type": "execute_result"
    }
   ],
   "source": [
    "# Making changes to the dataset by adding a new column\n",
    "df_valentia = add_air_density_column(df_valentia)\n",
    "# Checking if it works\n",
    "df_valentia.head(5)"
   ]
  },
  {
   "cell_type": "code",
   "execution_count": 16,
   "metadata": {},
   "outputs": [
    {
     "name": "stdout",
     "output_type": "stream",
     "text": [
      "<class 'pandas.core.frame.DataFrame'>\n",
      "DatetimeIndex: 709320 entries, 1944-01-01 00:00:00 to 2024-12-01 00:00:00\n",
      "Data columns (total 7 columns):\n",
      " #   Column       Non-Null Count   Dtype  \n",
      "---  ------       --------------   -----  \n",
      " 0   rain         709278 non-null  float32\n",
      " 1   wetb         709260 non-null  float32\n",
      " 2   dewpt        709260 non-null  float32\n",
      " 3   rhum         709260 non-null  float32\n",
      " 4   wddir        709211 non-null  float32\n",
      " 5   wdsp_m/s     709275 non-null  float32\n",
      " 6   air_density  709260 non-null  float64\n",
      "dtypes: float32(6), float64(1)\n",
      "memory usage: 27.1 MB\n"
     ]
    }
   ],
   "source": [
    "# Information about the dataset.\n",
    "df_valentia.info()"
   ]
  },
  {
   "cell_type": "code",
   "execution_count": 17,
   "metadata": {},
   "outputs": [
    {
     "data": {
      "text/plain": [
       "count    709260.000000\n",
       "mean          1.238767\n",
       "std           0.023312\n",
       "min           1.149262\n",
       "25%           1.222182\n",
       "50%           1.236412\n",
       "75%           1.253398\n",
       "max           1.347003\n",
       "Name: air_density, dtype: float64"
      ]
     },
     "execution_count": 17,
     "metadata": {},
     "output_type": "execute_result"
    }
   ],
   "source": [
    "# Checking the air density values: range, mean, std etc...\n",
    "# Get summary statistics for the column\n",
    "df_valentia['air_density'].describe()"
   ]
  },
  {
   "cell_type": "code",
   "execution_count": 18,
   "metadata": {},
   "outputs": [
    {
     "data": {
      "text/plain": [
       "array([ 6.17,  4.63,  5.66,  7.2 ,  7.72,  6.69,  3.6 ,  9.77,  8.75,\n",
       "        9.26,  8.23, 10.29, 10.8 , 11.32, 11.83,  4.12,  2.57,  1.54,\n",
       "        0.  ,  2.06,  0.51,  3.09,  5.14,  1.03, 13.89, 12.35, 13.38,\n",
       "       12.86, 14.92, 15.95, 15.43, 14.4 , 16.46, 17.49, 19.55, 19.03,\n",
       "       21.61, 21.09, 18.01, 16.98, 18.52, 20.06, 22.12, 23.15, 23.66,\n",
       "       22.64, 26.24, 20.58, 24.69, 25.72, 29.84, 25.21, 24.18, 29.32,\n",
       "         nan], dtype=float32)"
      ]
     },
     "execution_count": 18,
     "metadata": {},
     "output_type": "execute_result"
    }
   ],
   "source": [
    "df_valentia['wdsp_m/s'].unique()"
   ]
  },
  {
   "cell_type": "markdown",
   "metadata": {},
   "source": [
    "### Calculation how many hours per day the wind speed is between 3.5m/s(cut-in speed for the turbines to start working) to 25m/s(cut-out speed)."
   ]
  },
  {
   "cell_type": "code",
   "execution_count": 19,
   "metadata": {},
   "outputs": [
    {
     "data": {
      "text/html": [
       "<div>\n",
       "<style scoped>\n",
       "    .dataframe tbody tr th:only-of-type {\n",
       "        vertical-align: middle;\n",
       "    }\n",
       "\n",
       "    .dataframe tbody tr th {\n",
       "        vertical-align: top;\n",
       "    }\n",
       "\n",
       "    .dataframe thead th {\n",
       "        text-align: right;\n",
       "    }\n",
       "</style>\n",
       "<table border=\"1\" class=\"dataframe\">\n",
       "  <thead>\n",
       "    <tr style=\"text-align: right;\">\n",
       "      <th></th>\n",
       "      <th>rain</th>\n",
       "      <th>wetb</th>\n",
       "      <th>dewpt</th>\n",
       "      <th>rhum</th>\n",
       "      <th>wddir</th>\n",
       "      <th>wdsp_m/s</th>\n",
       "      <th>air_density</th>\n",
       "    </tr>\n",
       "    <tr>\n",
       "      <th>date</th>\n",
       "      <th></th>\n",
       "      <th></th>\n",
       "      <th></th>\n",
       "      <th></th>\n",
       "      <th></th>\n",
       "      <th></th>\n",
       "      <th></th>\n",
       "    </tr>\n",
       "  </thead>\n",
       "  <tbody>\n",
       "    <tr>\n",
       "      <th>1944-01-01 00:00:00</th>\n",
       "      <td>0.0</td>\n",
       "      <td>8.3</td>\n",
       "      <td>7.2</td>\n",
       "      <td>86.0</td>\n",
       "      <td>300.0</td>\n",
       "      <td>6.17</td>\n",
       "      <td>1.270988</td>\n",
       "    </tr>\n",
       "    <tr>\n",
       "      <th>1944-01-01 01:00:00</th>\n",
       "      <td>0.0</td>\n",
       "      <td>8.2</td>\n",
       "      <td>7.2</td>\n",
       "      <td>90.0</td>\n",
       "      <td>290.0</td>\n",
       "      <td>4.63</td>\n",
       "      <td>1.272203</td>\n",
       "    </tr>\n",
       "    <tr>\n",
       "      <th>1944-01-01 02:00:00</th>\n",
       "      <td>0.0</td>\n",
       "      <td>8.1</td>\n",
       "      <td>6.6</td>\n",
       "      <td>83.0</td>\n",
       "      <td>280.0</td>\n",
       "      <td>5.66</td>\n",
       "      <td>1.269615</td>\n",
       "    </tr>\n",
       "    <tr>\n",
       "      <th>1944-01-01 03:00:00</th>\n",
       "      <td>0.0</td>\n",
       "      <td>8.3</td>\n",
       "      <td>7.2</td>\n",
       "      <td>86.0</td>\n",
       "      <td>280.0</td>\n",
       "      <td>5.66</td>\n",
       "      <td>1.269091</td>\n",
       "    </tr>\n",
       "    <tr>\n",
       "      <th>1944-01-01 04:00:00</th>\n",
       "      <td>0.5</td>\n",
       "      <td>7.8</td>\n",
       "      <td>7.2</td>\n",
       "      <td>89.0</td>\n",
       "      <td>300.0</td>\n",
       "      <td>5.66</td>\n",
       "      <td>1.271890</td>\n",
       "    </tr>\n",
       "    <tr>\n",
       "      <th>...</th>\n",
       "      <td>...</td>\n",
       "      <td>...</td>\n",
       "      <td>...</td>\n",
       "      <td>...</td>\n",
       "      <td>...</td>\n",
       "      <td>...</td>\n",
       "      <td>...</td>\n",
       "    </tr>\n",
       "    <tr>\n",
       "      <th>2024-11-30 20:00:00</th>\n",
       "      <td>0.0</td>\n",
       "      <td>12.4</td>\n",
       "      <td>11.7</td>\n",
       "      <td>90.0</td>\n",
       "      <td>190.0</td>\n",
       "      <td>5.66</td>\n",
       "      <td>1.218094</td>\n",
       "    </tr>\n",
       "    <tr>\n",
       "      <th>2024-11-30 21:00:00</th>\n",
       "      <td>0.0</td>\n",
       "      <td>12.4</td>\n",
       "      <td>11.7</td>\n",
       "      <td>90.0</td>\n",
       "      <td>190.0</td>\n",
       "      <td>5.66</td>\n",
       "      <td>1.218763</td>\n",
       "    </tr>\n",
       "    <tr>\n",
       "      <th>2024-11-30 22:00:00</th>\n",
       "      <td>0.0</td>\n",
       "      <td>12.4</td>\n",
       "      <td>11.8</td>\n",
       "      <td>92.0</td>\n",
       "      <td>190.0</td>\n",
       "      <td>5.66</td>\n",
       "      <td>1.219568</td>\n",
       "    </tr>\n",
       "    <tr>\n",
       "      <th>2024-11-30 23:00:00</th>\n",
       "      <td>0.0</td>\n",
       "      <td>12.4</td>\n",
       "      <td>11.8</td>\n",
       "      <td>92.0</td>\n",
       "      <td>190.0</td>\n",
       "      <td>5.66</td>\n",
       "      <td>1.219127</td>\n",
       "    </tr>\n",
       "    <tr>\n",
       "      <th>2024-12-01 00:00:00</th>\n",
       "      <td>0.0</td>\n",
       "      <td>12.4</td>\n",
       "      <td>11.8</td>\n",
       "      <td>92.0</td>\n",
       "      <td>190.0</td>\n",
       "      <td>5.66</td>\n",
       "      <td>1.218473</td>\n",
       "    </tr>\n",
       "  </tbody>\n",
       "</table>\n",
       "<p>496660 rows × 7 columns</p>\n",
       "</div>"
      ],
      "text/plain": [
       "                     rain  wetb  dewpt  rhum  wddir  wdsp_m/s  air_density\n",
       "date                                                                      \n",
       "1944-01-01 00:00:00   0.0   8.3    7.2  86.0  300.0      6.17     1.270988\n",
       "1944-01-01 01:00:00   0.0   8.2    7.2  90.0  290.0      4.63     1.272203\n",
       "1944-01-01 02:00:00   0.0   8.1    6.6  83.0  280.0      5.66     1.269615\n",
       "1944-01-01 03:00:00   0.0   8.3    7.2  86.0  280.0      5.66     1.269091\n",
       "1944-01-01 04:00:00   0.5   7.8    7.2  89.0  300.0      5.66     1.271890\n",
       "...                   ...   ...    ...   ...    ...       ...          ...\n",
       "2024-11-30 20:00:00   0.0  12.4   11.7  90.0  190.0      5.66     1.218094\n",
       "2024-11-30 21:00:00   0.0  12.4   11.7  90.0  190.0      5.66     1.218763\n",
       "2024-11-30 22:00:00   0.0  12.4   11.8  92.0  190.0      5.66     1.219568\n",
       "2024-11-30 23:00:00   0.0  12.4   11.8  92.0  190.0      5.66     1.219127\n",
       "2024-12-01 00:00:00   0.0  12.4   11.8  92.0  190.0      5.66     1.218473\n",
       "\n",
       "[496660 rows x 7 columns]"
      ]
     },
     "execution_count": 19,
     "metadata": {},
     "output_type": "execute_result"
    }
   ],
   "source": [
    "df_optimal_valentia = df_valentia[(df_valentia['wdsp_m/s'] >= 3.5) & (df_valentia['wdsp_m/s'] <25)]\n",
    "\n",
    "df_optimal_valentia"
   ]
  },
  {
   "cell_type": "code",
   "execution_count": 20,
   "metadata": {},
   "outputs": [
    {
     "data": {
      "text/plain": [
       "count    496660.000000\n",
       "mean          6.686223\n",
       "std           2.533977\n",
       "min           3.600000\n",
       "25%           4.630000\n",
       "50%           6.170000\n",
       "75%           8.230000\n",
       "max          24.690001\n",
       "Name: wdsp_m/s, dtype: float64"
      ]
     },
     "execution_count": 20,
     "metadata": {},
     "output_type": "execute_result"
    }
   ],
   "source": [
    "df_optimal_valentia['wdsp_m/s'].describe()"
   ]
  },
  {
   "cell_type": "code",
   "execution_count": 21,
   "metadata": {},
   "outputs": [
    {
     "data": {
      "text/plain": [
       "count    496626.000000\n",
       "mean          1.234829\n",
       "std           0.021129\n",
       "min           1.149262\n",
       "25%           1.219780\n",
       "50%           1.233253\n",
       "75%           1.248648\n",
       "max           1.334665\n",
       "Name: air_density, dtype: float64"
      ]
     },
     "execution_count": 21,
     "metadata": {},
     "output_type": "execute_result"
    }
   ],
   "source": [
    "df_optimal_valentia['air_density'].describe()"
   ]
  },
  {
   "cell_type": "code",
   "execution_count": 22,
   "metadata": {},
   "outputs": [
    {
     "data": {
      "text/plain": [
       "date\n",
       "1944-01-01    24\n",
       "1944-01-02    24\n",
       "1944-01-03    24\n",
       "1944-01-04     6\n",
       "1944-01-05    24\n",
       "              ..\n",
       "2024-11-27     5\n",
       "2024-11-28    24\n",
       "2024-11-29    24\n",
       "2024-11-30    24\n",
       "2024-12-01     1\n",
       "Freq: D, Length: 29556, dtype: int64"
      ]
     },
     "execution_count": 22,
     "metadata": {},
     "output_type": "execute_result"
    }
   ],
   "source": [
    "# Count the number of occurrences (hours) per day\n",
    "hours_per_day = group_by_dataset(df_optimal_valentia, time='D')\n",
    "hours_per_day"
   ]
  },
  {
   "cell_type": "code",
   "execution_count": 31,
   "metadata": {},
   "outputs": [
    {
     "data": {
      "text/plain": [
       "date\n",
       "1944-01-02     48\n",
       "1944-01-09    128\n",
       "1944-01-16    154\n",
       "1944-01-23    151\n",
       "1944-01-30    168\n",
       "             ... \n",
       "2024-11-03     21\n",
       "2024-11-10    123\n",
       "2024-11-17     35\n",
       "2024-11-24    133\n",
       "2024-12-01     96\n",
       "Freq: W-SUN, Length: 4223, dtype: int64"
      ]
     },
     "execution_count": 31,
     "metadata": {},
     "output_type": "execute_result"
    }
   ],
   "source": [
    "hours_per_week = group_by_dataset(df_optimal_valentia, time='W')\n",
    "hours_per_week"
   ]
  },
  {
   "cell_type": "code",
   "execution_count": 23,
   "metadata": {},
   "outputs": [
    {
     "data": {
      "text/plain": [
       "date\n",
       "1944-01-31    673\n",
       "1944-02-29    554\n",
       "1944-03-31    465\n",
       "1944-04-30    537\n",
       "1944-05-31    517\n",
       "             ... \n",
       "2024-08-31    619\n",
       "2024-09-30    423\n",
       "2024-10-31    474\n",
       "2024-11-30    389\n",
       "2024-12-31      1\n",
       "Freq: ME, Length: 972, dtype: int64"
      ]
     },
     "execution_count": 23,
     "metadata": {},
     "output_type": "execute_result"
    }
   ],
   "source": [
    "hours_per_month = group_by_dataset(df_optimal_valentia, time='ME')\n",
    "hours_per_month"
   ]
  },
  {
   "cell_type": "code",
   "execution_count": 24,
   "metadata": {},
   "outputs": [
    {
     "data": {
      "text/plain": [
       "date\n",
       "1944-12-31    6652\n",
       "1945-12-31    6571\n",
       "1946-12-31    6774\n",
       "1947-12-31    6527\n",
       "1948-12-31    6844\n",
       "              ... \n",
       "2020-12-31    6113\n",
       "2021-12-31    5474\n",
       "2022-12-31    5686\n",
       "2023-12-31    6031\n",
       "2024-12-31    5329\n",
       "Freq: YE-DEC, Length: 81, dtype: int64"
      ]
     },
     "execution_count": 24,
     "metadata": {},
     "output_type": "execute_result"
    }
   ],
   "source": [
    "hours_per_year = group_by_dataset(df_optimal_valentia, time='YE')\n",
    "hours_per_year"
   ]
  },
  {
   "cell_type": "code",
   "execution_count": 29,
   "metadata": {},
   "outputs": [
    {
     "data": {
      "text/plain": [
       "decade\n",
       "1940    39844\n",
       "1950    60361\n",
       "1960    64177\n",
       "1970    64807\n",
       "1980    66271\n",
       "1990    57624\n",
       "2000    56614\n",
       "2010    58329\n",
       "2020    28633\n",
       "dtype: int64"
      ]
     },
     "execution_count": 29,
     "metadata": {},
     "output_type": "execute_result"
    }
   ],
   "source": [
    "hours_per_decade = group_by_dataset(df_optimal_valentia, time='decade')\n",
    "hours_per_decade"
   ]
  },
  {
   "cell_type": "code",
   "execution_count": 26,
   "metadata": {},
   "outputs": [
    {
     "data": {
      "image/png": "[encoded data removed]",
      "text/plain": [
       "<Figure size 1000x600 with 1 Axes>"
      ]
     },
     "metadata": {},
     "output_type": "display_data"
    }
   ],
   "source": [
    "# Plot the data\n",
    "plt.figure(figsize=(10, 6))  # Optional: specify the figure size\n",
    "hours_per_year.plot(kind='bar', color='skyblue', edgecolor='black')  # Bar chart for daily hours\n",
    "\n",
    "# Set the title and labels\n",
    "plt.title('Hours with Wind Speed Between 3.5 m/s and 25 m/s per Year', fontsize=14)\n",
    "plt.xlabel('Date', fontsize=12)\n",
    "plt.ylabel('Number of Hours', fontsize=12)\n",
    "\n",
    "# Show the plot\n",
    "plt.xticks(rotation=45)  # Optional: rotate x-axis labels for better readability\n",
    "plt.tight_layout()  # Optional: adjust layout to make it look better\n",
    "plt.show()\n"
   ]
  },
  {
   "cell_type": "code",
   "execution_count": null,
   "metadata": {},
   "outputs": [
    {
     "data": {
      "image/png": "[encoded data removed]",
      "text/plain": [
       "<Figure size 1000x600 with 1 Axes>"
      ]
     },
     "metadata": {},
     "output_type": "display_data"
    }
   ],
   "source": [
    "# Plot the data by decade using seaborn\n",
    "sns.set(style=\"whitegrid\")\n",
    "plt.figure(figsize=(10, 6))\n",
    "sns.barplot(x=hours_per_decade.index, y=hours_per_decade.values, color='skyblue')\n",
    "\n",
    "# Customize the plot with title and labels\n",
    "plt.title('Total Hours Between Cut-In and Cut-Out Wind Speed by Decade', fontsize=16)\n",
    "plt.xlabel('Decade', fontsize=14)\n",
    "plt.ylabel('Total Hours', fontsize=14)\n",
    "\n",
    "# Rotate x-axis labels if needed\n",
    "plt.xticks(rotation=45)\n",
    "\n",
    "# Show the plot\n",
    "plt.tight_layout()\n",
    "plt.show()"
   ]
  }
 ],
 "metadata": {
  "kernelspec": {
   "display_name": "base",
   "language": "python",
   "name": "python3"
  },
  "language_info": {
   "codemirror_mode": {
    "name": "ipython",
    "version": 3
   },
   "file_extension": ".py",
   "mimetype": "text/x-python",
   "name": "python",
   "nbconvert_exporter": "python",
   "pygments_lexer": "ipython3",
   "version": "3.12.7"
  }
 },
 "nbformat": 4,
 "nbformat_minor": 2
}
