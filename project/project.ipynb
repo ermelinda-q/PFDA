{
 "cells": [
  {
   "cell_type": "markdown",
   "metadata": {},
   "source": [
    "# PFDA Project\n",
    "\n",
    "### by E. Qejvani\n",
    "***"
   ]
  },
  {
   "cell_type": "markdown",
   "metadata": {},
   "source": [
    "## Part 1 - Preparing the dataset.\n",
    "***\n",
    "\n",
    "* Uploading the libraries.\n",
    "* Keeping the information we are interested in.\n",
    "* Preparing the dataset for analyzing."
   ]
  },
  {
   "cell_type": "code",
   "execution_count": 1,
   "metadata": {},
   "outputs": [],
   "source": [
    "# Importing the libraries.\n",
    "import pandas as pd \n",
    "# Importing project_functions file where I'm storing all the functions to use in this project. \n",
    "from project_functions import *         "
   ]
  },
  {
   "cell_type": "code",
   "execution_count": 2,
   "metadata": {},
   "outputs": [
    {
     "data": {
      "text/html": [
       "<div>\n",
       "<style scoped>\n",
       "    .dataframe tbody tr th:only-of-type {\n",
       "        vertical-align: middle;\n",
       "    }\n",
       "\n",
       "    .dataframe tbody tr th {\n",
       "        vertical-align: top;\n",
       "    }\n",
       "\n",
       "    .dataframe thead th {\n",
       "        text-align: right;\n",
       "    }\n",
       "</style>\n",
       "<table border=\"1\" class=\"dataframe\">\n",
       "  <thead>\n",
       "    <tr style=\"text-align: right;\">\n",
       "      <th></th>\n",
       "      <th>date</th>\n",
       "      <th>rain</th>\n",
       "      <th>temp</th>\n",
       "      <th>wetb</th>\n",
       "      <th>dewpt</th>\n",
       "      <th>rhum</th>\n",
       "      <th>vappr</th>\n",
       "      <th>msl</th>\n",
       "      <th>wdsp</th>\n",
       "      <th>wddir</th>\n",
       "    </tr>\n",
       "  </thead>\n",
       "  <tbody>\n",
       "    <tr>\n",
       "      <th>0</th>\n",
       "      <td>01-jan-1944 00:00</td>\n",
       "      <td>0.0</td>\n",
       "      <td>9.3</td>\n",
       "      <td>8.3</td>\n",
       "      <td>7.2</td>\n",
       "      <td>86</td>\n",
       "      <td>10.1</td>\n",
       "      <td>1034.3</td>\n",
       "      <td>12</td>\n",
       "      <td>300</td>\n",
       "    </tr>\n",
       "    <tr>\n",
       "      <th>1</th>\n",
       "      <td>01-jan-1944 01:00</td>\n",
       "      <td>0.0</td>\n",
       "      <td>8.9</td>\n",
       "      <td>8.2</td>\n",
       "      <td>7.2</td>\n",
       "      <td>90</td>\n",
       "      <td>10.3</td>\n",
       "      <td>1033.9</td>\n",
       "      <td>9</td>\n",
       "      <td>290</td>\n",
       "    </tr>\n",
       "    <tr>\n",
       "      <th>2</th>\n",
       "      <td>01-jan-1944 02:00</td>\n",
       "      <td>0.0</td>\n",
       "      <td>9.4</td>\n",
       "      <td>8.1</td>\n",
       "      <td>6.6</td>\n",
       "      <td>83</td>\n",
       "      <td>9.7</td>\n",
       "      <td>1033.4</td>\n",
       "      <td>11</td>\n",
       "      <td>280</td>\n",
       "    </tr>\n",
       "    <tr>\n",
       "      <th>3</th>\n",
       "      <td>01-jan-1944 03:00</td>\n",
       "      <td>0.0</td>\n",
       "      <td>9.3</td>\n",
       "      <td>8.3</td>\n",
       "      <td>7.2</td>\n",
       "      <td>86</td>\n",
       "      <td>10.2</td>\n",
       "      <td>1032.8</td>\n",
       "      <td>11</td>\n",
       "      <td>280</td>\n",
       "    </tr>\n",
       "    <tr>\n",
       "      <th>4</th>\n",
       "      <td>01-jan-1944 04:00</td>\n",
       "      <td>0.5</td>\n",
       "      <td>8.6</td>\n",
       "      <td>7.8</td>\n",
       "      <td>7.2</td>\n",
       "      <td>89</td>\n",
       "      <td>9.9</td>\n",
       "      <td>1032.4</td>\n",
       "      <td>11</td>\n",
       "      <td>300</td>\n",
       "    </tr>\n",
       "  </tbody>\n",
       "</table>\n",
       "</div>"
      ],
      "text/plain": [
       "                date rain temp wetb dewpt rhum vappr     msl wdsp wddir\n",
       "0  01-jan-1944 00:00  0.0  9.3  8.3   7.2   86  10.1  1034.3   12   300\n",
       "1  01-jan-1944 01:00  0.0  8.9  8.2   7.2   90  10.3  1033.9    9   290\n",
       "2  01-jan-1944 02:00  0.0  9.4  8.1   6.6   83   9.7  1033.4   11   280\n",
       "3  01-jan-1944 03:00  0.0  9.3  8.3   7.2   86  10.2  1032.8   11   280\n",
       "4  01-jan-1944 04:00  0.5  8.6  7.8   7.2   89   9.9  1032.4   11   300"
      ]
     },
     "execution_count": 2,
     "metadata": {},
     "output_type": "execute_result"
    }
   ],
   "source": [
    "# Uploading the dataset to my data frame, skipping the first 23 rows as the dataset starts at row 24. \n",
    "# Setting low_memory=False - easier to upload in big datasets.\n",
    "df = pd.read_csv('./data/data_valentia.csv', skiprows=23, low_memory=False)\n",
    "\n",
    "# Creating a subset using only the data I need for this project.\n",
    "df_valentia = df[['date', 'rain', 'temp', 'wetb', 'dewpt', 'rhum', 'vappr', 'msl', 'wdsp', 'wddir']].copy()\n",
    "\n",
    "# df_valentia = df.drop(columns=['ww', 'sun', 'w', 'vis', 'clht', 'clamt', 'ind', 'ind.1', 'ind.2', 'ind.3', 'ind.4']) \n",
    "\n",
    "df_valentia.head(5)"
   ]
  },
  {
   "cell_type": "markdown",
   "metadata": {},
   "source": [
    "### Checking the dataset."
   ]
  },
  {
   "cell_type": "code",
   "execution_count": 3,
   "metadata": {},
   "outputs": [
    {
     "name": "stdout",
     "output_type": "stream",
     "text": [
      "<class 'pandas.core.frame.DataFrame'>\n",
      "RangeIndex: 709320 entries, 0 to 709319\n",
      "Data columns (total 10 columns):\n",
      " #   Column  Non-Null Count   Dtype \n",
      "---  ------  --------------   ----- \n",
      " 0   date    709320 non-null  object\n",
      " 1   rain    709320 non-null  object\n",
      " 2   temp    709320 non-null  object\n",
      " 3   wetb    709320 non-null  object\n",
      " 4   dewpt   709320 non-null  object\n",
      " 5   rhum    709320 non-null  object\n",
      " 6   vappr   709320 non-null  object\n",
      " 7   msl     709320 non-null  object\n",
      " 8   wdsp    709320 non-null  object\n",
      " 9   wddir   709320 non-null  object\n",
      "dtypes: object(10)\n",
      "memory usage: 54.1+ MB\n"
     ]
    }
   ],
   "source": [
    "# Information about our dataset.\n",
    "df_valentia.info()"
   ]
  },
  {
   "cell_type": "markdown",
   "metadata": {},
   "source": [
    "### Changing the data types in my dataset.\n",
    "\n",
    "As we can see from the above all data types in the dataset are object type. To change this I am going to:\n",
    "- Change the date column type to date type data.\n",
    "- Change the rest of the columns to float type data.\n",
    "- For both changes I'm creating a function in the `project_functions.py` file."
   ]
  },
  {
   "cell_type": "code",
   "execution_count": 4,
   "metadata": {},
   "outputs": [],
   "source": [
    "# \n",
    "columns_to_convert = ['rain', 'temp', 'wetb', 'dewpt', 'rhum', 'vappr', 'msl', 'wdsp', 'wddir']\n",
    "df_valentia = convert_columns_to_float(df_valentia, columns_to_convert)"
   ]
  },
  {
   "cell_type": "code",
   "execution_count": 5,
   "metadata": {},
   "outputs": [
    {
     "name": "stdout",
     "output_type": "stream",
     "text": [
      "<class 'pandas.core.frame.DataFrame'>\n",
      "RangeIndex: 709320 entries, 0 to 709319\n",
      "Data columns (total 10 columns):\n",
      " #   Column  Non-Null Count   Dtype  \n",
      "---  ------  --------------   -----  \n",
      " 0   date    709320 non-null  object \n",
      " 1   rain    709278 non-null  float64\n",
      " 2   temp    709260 non-null  float64\n",
      " 3   wetb    709260 non-null  float64\n",
      " 4   dewpt   709260 non-null  float64\n",
      " 5   rhum    709260 non-null  float64\n",
      " 6   vappr   709260 non-null  float64\n",
      " 7   msl     709260 non-null  float64\n",
      " 8   wdsp    709275 non-null  float64\n",
      " 9   wddir   709211 non-null  float64\n",
      "dtypes: float64(9), object(1)\n",
      "memory usage: 54.1+ MB\n"
     ]
    }
   ],
   "source": [
    "df_valentia.info()"
   ]
  },
  {
   "cell_type": "markdown",
   "metadata": {},
   "source": [
    "### Checking if any data is missing - NAN or null values."
   ]
  },
  {
   "cell_type": "code",
   "execution_count": 6,
   "metadata": {},
   "outputs": [],
   "source": [
    "# Checking for missing data.\n",
    "# df_valentia.isnull().sum()\n",
    "# df_valentia.isna().sum()\n",
    "# (df_valentia == ' ').sum()"
   ]
  },
  {
   "cell_type": "markdown",
   "metadata": {},
   "source": [
    "### Checking for single space values `' '`"
   ]
  },
  {
   "cell_type": "markdown",
   "metadata": {},
   "source": [
    "In Assignment Six of this module, I found out that using `.isna()` and `.isnull()` alone is insufficient for cleaning the dataset. Sometimes, cells can contain an empty value represented by a single space (stored as a string). Therefore, in the next section, I will check for any cells that contain a single space as their value."
   ]
  },
  {
   "cell_type": "markdown",
   "metadata": {},
   "source": [
    "### Counting the rows that hold empty cells.\n",
    "\n",
    "* I created a function in the `project_functions` file that counts all the rows that hold empty cells. "
   ]
  },
  {
   "cell_type": "code",
   "execution_count": 7,
   "metadata": {},
   "outputs": [
    {
     "name": "stdout",
     "output_type": "stream",
     "text": [
      "Rows with 0 empty cells: 709144\n",
      "Rows with 1 empty cells: 75\n",
      "Rows with 2 empty cells: 41\n",
      "Rows with 6 empty cells: 22\n",
      "Rows with 7 empty cells: 37\n",
      "Rows with 8 empty cells: 1\n",
      "Total rows with at least one empty values: 176\n"
     ]
    },
    {
     "data": {
      "text/plain": [
       "176"
      ]
     },
     "execution_count": 7,
     "metadata": {},
     "output_type": "execute_result"
    }
   ],
   "source": [
    "# calling the funtion from the 'project_functions.py' file.\n",
    "count_rows_with_empty_or_space_cells_detail(df_valentia)"
   ]
  },
  {
   "cell_type": "markdown",
   "metadata": {},
   "source": [
    "### Cleaning the rows with empty cells.\n",
    "\n",
    "* Because of the big size of the dataset (709320 records) I decided to remove all the rows that contain empty cells.\n",
    "* The total records after removing 176 rows becomes 709144."
   ]
  },
  {
   "cell_type": "code",
   "execution_count": 8,
   "metadata": {},
   "outputs": [
    {
     "name": "stdout",
     "output_type": "stream",
     "text": [
      "<class 'pandas.core.frame.DataFrame'>\n",
      "RangeIndex: 709320 entries, 0 to 709319\n",
      "Data columns (total 10 columns):\n",
      " #   Column  Non-Null Count   Dtype  \n",
      "---  ------  --------------   -----  \n",
      " 0   date    709320 non-null  object \n",
      " 1   rain    709278 non-null  float64\n",
      " 2   temp    709260 non-null  float64\n",
      " 3   wetb    709260 non-null  float64\n",
      " 4   dewpt   709260 non-null  float64\n",
      " 5   rhum    709260 non-null  float64\n",
      " 6   vappr   709260 non-null  float64\n",
      " 7   msl     709260 non-null  float64\n",
      " 8   wdsp    709275 non-null  float64\n",
      " 9   wddir   709211 non-null  float64\n",
      "dtypes: float64(9), object(1)\n",
      "memory usage: 54.1+ MB\n"
     ]
    }
   ],
   "source": [
    "remove_rows_with_missing_data(df_valentia)\n",
    "df_valentia.info()"
   ]
  },
  {
   "cell_type": "markdown",
   "metadata": {},
   "source": [
    "Changing the `date` column to date "
   ]
  },
  {
   "cell_type": "markdown",
   "metadata": {},
   "source": [
    "### Working with the data types."
   ]
  }
 ],
 "metadata": {
  "kernelspec": {
   "display_name": "base",
   "language": "python",
   "name": "python3"
  },
  "language_info": {
   "codemirror_mode": {
    "name": "ipython",
    "version": 3
   },
   "file_extension": ".py",
   "mimetype": "text/x-python",
   "name": "python",
   "nbconvert_exporter": "python",
   "pygments_lexer": "ipython3",
   "version": "3.12.7"
  }
 },
 "nbformat": 4,
 "nbformat_minor": 2
}
