{
 "cells": [
  {
   "cell_type": "markdown",
   "metadata": {},
   "source": [
    "# PFDA Project\n",
    "\n",
    "### by E. Qejvani\n",
    "***"
   ]
  },
  {
   "cell_type": "markdown",
   "metadata": {},
   "source": [
    "## Part 1 - Preparing the dataset.\n",
    "***\n",
    "\n",
    "* Uploading the libraries.\n",
    "* Keeping the information we are interested in.\n",
    "* Preparing the dataset for analyzing."
   ]
  },
  {
   "cell_type": "code",
   "execution_count": 311,
   "metadata": {},
   "outputs": [],
   "source": [
    "# Importing the libraries.\n",
    "import pandas as pd \n",
    "from project_functions import *"
   ]
  },
  {
   "cell_type": "code",
   "execution_count": 312,
   "metadata": {},
   "outputs": [
    {
     "data": {
      "text/html": [
       "<div>\n",
       "<style scoped>\n",
       "    .dataframe tbody tr th:only-of-type {\n",
       "        vertical-align: middle;\n",
       "    }\n",
       "\n",
       "    .dataframe tbody tr th {\n",
       "        vertical-align: top;\n",
       "    }\n",
       "\n",
       "    .dataframe thead th {\n",
       "        text-align: right;\n",
       "    }\n",
       "</style>\n",
       "<table border=\"1\" class=\"dataframe\">\n",
       "  <thead>\n",
       "    <tr style=\"text-align: right;\">\n",
       "      <th></th>\n",
       "      <th>date</th>\n",
       "      <th>rain</th>\n",
       "      <th>temp</th>\n",
       "      <th>wetb</th>\n",
       "      <th>dewpt</th>\n",
       "      <th>rhum</th>\n",
       "      <th>vappr</th>\n",
       "      <th>msl</th>\n",
       "      <th>wdsp</th>\n",
       "      <th>wddir</th>\n",
       "    </tr>\n",
       "  </thead>\n",
       "  <tbody>\n",
       "    <tr>\n",
       "      <th>0</th>\n",
       "      <td>01-jan-1944 00:00</td>\n",
       "      <td>0.0</td>\n",
       "      <td>9.3</td>\n",
       "      <td>8.3</td>\n",
       "      <td>7.2</td>\n",
       "      <td>86</td>\n",
       "      <td>10.1</td>\n",
       "      <td>1034.3</td>\n",
       "      <td>12</td>\n",
       "      <td>300</td>\n",
       "    </tr>\n",
       "    <tr>\n",
       "      <th>1</th>\n",
       "      <td>01-jan-1944 01:00</td>\n",
       "      <td>0.0</td>\n",
       "      <td>8.9</td>\n",
       "      <td>8.2</td>\n",
       "      <td>7.2</td>\n",
       "      <td>90</td>\n",
       "      <td>10.3</td>\n",
       "      <td>1033.9</td>\n",
       "      <td>9</td>\n",
       "      <td>290</td>\n",
       "    </tr>\n",
       "    <tr>\n",
       "      <th>2</th>\n",
       "      <td>01-jan-1944 02:00</td>\n",
       "      <td>0.0</td>\n",
       "      <td>9.4</td>\n",
       "      <td>8.1</td>\n",
       "      <td>6.6</td>\n",
       "      <td>83</td>\n",
       "      <td>9.7</td>\n",
       "      <td>1033.4</td>\n",
       "      <td>11</td>\n",
       "      <td>280</td>\n",
       "    </tr>\n",
       "    <tr>\n",
       "      <th>3</th>\n",
       "      <td>01-jan-1944 03:00</td>\n",
       "      <td>0.0</td>\n",
       "      <td>9.3</td>\n",
       "      <td>8.3</td>\n",
       "      <td>7.2</td>\n",
       "      <td>86</td>\n",
       "      <td>10.2</td>\n",
       "      <td>1032.8</td>\n",
       "      <td>11</td>\n",
       "      <td>280</td>\n",
       "    </tr>\n",
       "    <tr>\n",
       "      <th>4</th>\n",
       "      <td>01-jan-1944 04:00</td>\n",
       "      <td>0.5</td>\n",
       "      <td>8.6</td>\n",
       "      <td>7.8</td>\n",
       "      <td>7.2</td>\n",
       "      <td>89</td>\n",
       "      <td>9.9</td>\n",
       "      <td>1032.4</td>\n",
       "      <td>11</td>\n",
       "      <td>300</td>\n",
       "    </tr>\n",
       "    <tr>\n",
       "      <th>...</th>\n",
       "      <td>...</td>\n",
       "      <td>...</td>\n",
       "      <td>...</td>\n",
       "      <td>...</td>\n",
       "      <td>...</td>\n",
       "      <td>...</td>\n",
       "      <td>...</td>\n",
       "      <td>...</td>\n",
       "      <td>...</td>\n",
       "      <td>...</td>\n",
       "    </tr>\n",
       "    <tr>\n",
       "      <th>709315</th>\n",
       "      <td>30-nov-2024 20:00</td>\n",
       "      <td>0.0</td>\n",
       "      <td>13.3</td>\n",
       "      <td>12.4</td>\n",
       "      <td>11.7</td>\n",
       "      <td>90</td>\n",
       "      <td>13.8</td>\n",
       "      <td>1006.8</td>\n",
       "      <td>11</td>\n",
       "      <td>190</td>\n",
       "    </tr>\n",
       "    <tr>\n",
       "      <th>709316</th>\n",
       "      <td>30-nov-2024 21:00</td>\n",
       "      <td>0.0</td>\n",
       "      <td>13.2</td>\n",
       "      <td>12.4</td>\n",
       "      <td>11.7</td>\n",
       "      <td>90</td>\n",
       "      <td>13.8</td>\n",
       "      <td>1007.0</td>\n",
       "      <td>11</td>\n",
       "      <td>190</td>\n",
       "    </tr>\n",
       "    <tr>\n",
       "      <th>709317</th>\n",
       "      <td>30-nov-2024 22:00</td>\n",
       "      <td>0.0</td>\n",
       "      <td>13.0</td>\n",
       "      <td>12.4</td>\n",
       "      <td>11.8</td>\n",
       "      <td>92</td>\n",
       "      <td>13.9</td>\n",
       "      <td>1007.0</td>\n",
       "      <td>11</td>\n",
       "      <td>190</td>\n",
       "    </tr>\n",
       "    <tr>\n",
       "      <th>709318</th>\n",
       "      <td>30-nov-2024 23:00</td>\n",
       "      <td>0.0</td>\n",
       "      <td>13.0</td>\n",
       "      <td>12.4</td>\n",
       "      <td>11.8</td>\n",
       "      <td>92</td>\n",
       "      <td>13.8</td>\n",
       "      <td>1006.6</td>\n",
       "      <td>11</td>\n",
       "      <td>190</td>\n",
       "    </tr>\n",
       "    <tr>\n",
       "      <th>709319</th>\n",
       "      <td>01-dec-2024 00:00</td>\n",
       "      <td>0.0</td>\n",
       "      <td>13.0</td>\n",
       "      <td>12.4</td>\n",
       "      <td>11.8</td>\n",
       "      <td>92</td>\n",
       "      <td>13.9</td>\n",
       "      <td>1006.1</td>\n",
       "      <td>11</td>\n",
       "      <td>190</td>\n",
       "    </tr>\n",
       "  </tbody>\n",
       "</table>\n",
       "<p>709320 rows × 10 columns</p>\n",
       "</div>"
      ],
      "text/plain": [
       "                     date rain  temp  wetb dewpt rhum vappr     msl wdsp wddir\n",
       "0       01-jan-1944 00:00  0.0   9.3   8.3   7.2   86  10.1  1034.3   12   300\n",
       "1       01-jan-1944 01:00  0.0   8.9   8.2   7.2   90  10.3  1033.9    9   290\n",
       "2       01-jan-1944 02:00  0.0   9.4   8.1   6.6   83   9.7  1033.4   11   280\n",
       "3       01-jan-1944 03:00  0.0   9.3   8.3   7.2   86  10.2  1032.8   11   280\n",
       "4       01-jan-1944 04:00  0.5   8.6   7.8   7.2   89   9.9  1032.4   11   300\n",
       "...                   ...  ...   ...   ...   ...  ...   ...     ...  ...   ...\n",
       "709315  30-nov-2024 20:00  0.0  13.3  12.4  11.7   90  13.8  1006.8   11   190\n",
       "709316  30-nov-2024 21:00  0.0  13.2  12.4  11.7   90  13.8  1007.0   11   190\n",
       "709317  30-nov-2024 22:00  0.0  13.0  12.4  11.8   92  13.9  1007.0   11   190\n",
       "709318  30-nov-2024 23:00  0.0  13.0  12.4  11.8   92  13.8  1006.6   11   190\n",
       "709319  01-dec-2024 00:00  0.0  13.0  12.4  11.8   92  13.9  1006.1   11   190\n",
       "\n",
       "[709320 rows x 10 columns]"
      ]
     },
     "execution_count": 312,
     "metadata": {},
     "output_type": "execute_result"
    }
   ],
   "source": [
    "# Uploading the dataset to my data frame, skipping the first 23 rows as the dataset starts at row 24. \n",
    "# Setting low_memory=False - easier to upload in big datasets.\n",
    "df = pd.read_csv('./data/data_valentia.csv', skiprows=23, low_memory=False)\n",
    "# Creating a subset using only the data I need for this project.\n",
    "df_valentia = df[['date', 'rain', 'temp', 'wetb', 'dewpt', 'rhum', 'vappr', 'msl', 'wdsp', 'wddir']].copy()\n",
    "# df_valentia = df.drop(columns=['ww', 'sun', 'w', 'vis', 'clht', 'clamt', 'ind', 'ind.1', 'ind.2', 'ind.3', 'ind.4']) #### another way of keeping only the columns we're interested in.\n",
    "df_valentia\n"
   ]
  },
  {
   "cell_type": "code",
   "execution_count": 313,
   "metadata": {},
   "outputs": [
    {
     "data": {
      "text/plain": [
       "date     0\n",
       "rain     0\n",
       "temp     0\n",
       "wetb     0\n",
       "dewpt    0\n",
       "rhum     0\n",
       "vappr    0\n",
       "msl      0\n",
       "wdsp     0\n",
       "wddir    0\n",
       "dtype: int64"
      ]
     },
     "execution_count": 313,
     "metadata": {},
     "output_type": "execute_result"
    }
   ],
   "source": [
    "# Checking for missing data.\n",
    "df_valentia.isnull().sum()"
   ]
  },
  {
   "cell_type": "code",
   "execution_count": 314,
   "metadata": {},
   "outputs": [
    {
     "data": {
      "text/plain": [
       "date     0\n",
       "rain     0\n",
       "temp     0\n",
       "wetb     0\n",
       "dewpt    0\n",
       "rhum     0\n",
       "vappr    0\n",
       "msl      0\n",
       "wdsp     0\n",
       "wddir    0\n",
       "dtype: int64"
      ]
     },
     "execution_count": 314,
     "metadata": {},
     "output_type": "execute_result"
    }
   ],
   "source": [
    "df_valentia.isna().sum()"
   ]
  },
  {
   "cell_type": "code",
   "execution_count": 315,
   "metadata": {},
   "outputs": [
    {
     "data": {
      "text/plain": [
       "date       0\n",
       "rain      42\n",
       "temp      60\n",
       "wetb      60\n",
       "dewpt     60\n",
       "rhum      60\n",
       "vappr     60\n",
       "msl       60\n",
       "wdsp      45\n",
       "wddir    109\n",
       "dtype: int64"
      ]
     },
     "execution_count": 315,
     "metadata": {},
     "output_type": "execute_result"
    }
   ],
   "source": [
    "# Checking in each of columns the number of cells in that column that contain the string ' '(single space)\n",
    "(df_valentia == ' ').sum()"
   ]
  },
  {
   "cell_type": "code",
   "execution_count": 316,
   "metadata": {},
   "outputs": [
    {
     "name": "stdout",
     "output_type": "stream",
     "text": [
      "Rows with 0 empty cells: 709144\n",
      "Rows with 1 empty cells: 75\n",
      "Rows with 2 empty cells: 41\n",
      "Rows with 6 empty cells: 22\n",
      "Rows with 7 empty cells: 37\n",
      "Rows with 8 empty cells: 1\n"
     ]
    },
    {
     "data": {
      "text/plain": [
       "0    709144\n",
       "1        75\n",
       "2        41\n",
       "6        22\n",
       "7        37\n",
       "8         1\n",
       "Name: count, dtype: int64"
      ]
     },
     "execution_count": 316,
     "metadata": {},
     "output_type": "execute_result"
    }
   ],
   "source": [
    "count_rows_with_empty_or_space_cells_detail(df_valentia)"
   ]
  },
  {
   "cell_type": "code",
   "execution_count": null,
   "metadata": {},
   "outputs": [],
   "source": [
    "remove_rows_with_missing_data(df_valentia)"
   ]
  },
  {
   "cell_type": "code",
   "execution_count": 318,
   "metadata": {},
   "outputs": [
    {
     "data": {
      "text/plain": [
       "date     object\n",
       "rain     object\n",
       "temp     object\n",
       "wetb     object\n",
       "dewpt    object\n",
       "rhum     object\n",
       "vappr    object\n",
       "msl      object\n",
       "wdsp     object\n",
       "wddir    object\n",
       "dtype: object"
      ]
     },
     "execution_count": 318,
     "metadata": {},
     "output_type": "execute_result"
    }
   ],
   "source": [
    "# Checking for data types used in my dataset.\n",
    "df_valentia.dtypes"
   ]
  }
 ],
 "metadata": {
  "kernelspec": {
   "display_name": "base",
   "language": "python",
   "name": "python3"
  },
  "language_info": {
   "codemirror_mode": {
    "name": "ipython",
    "version": 3
   },
   "file_extension": ".py",
   "mimetype": "text/x-python",
   "name": "python",
   "nbconvert_exporter": "python",
   "pygments_lexer": "ipython3",
   "version": "3.12.7"
  }
 },
 "nbformat": 4,
 "nbformat_minor": 2
}
