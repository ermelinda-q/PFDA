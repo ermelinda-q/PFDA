{
 "cells": [
  {
   "cell_type": "markdown",
   "metadata": {},
   "source": [
    "# PFDA Project\n",
    "\n",
    "### by E. Qejvani\n",
    "***"
   ]
  },
  {
   "cell_type": "markdown",
   "metadata": {},
   "source": [
    "## Part 1 - Preparing the dataset.\n",
    "***\n",
    "\n",
    "* Uploading the libraries.\n",
    "* Keeping the information we are interested in.\n",
    "* Preparing the dataset for analyzing.\n",
    "    - Checking data types of the coulumns.\n",
    "    - Checking for empty value cells or NaN value cells.\n",
    "    - Cleaning the dataset."
   ]
  },
  {
   "cell_type": "code",
   "execution_count": 1,
   "metadata": {},
   "outputs": [],
   "source": [
    "# Importing the libraries.\n",
    "import pandas as pd \n",
    "import matplotlib.pyplot as plt\n",
    "import seaborn as sns \n",
    "from mpl_toolkits.mplot3d import Axes3D\n",
    "# Importing project_functions file where I'm storing all the functions to use in this project. \n",
    "from project_functions import *         "
   ]
  },
  {
   "cell_type": "code",
   "execution_count": 2,
   "metadata": {},
   "outputs": [
    {
     "data": {
      "text/html": [
       "<div>\n",
       "<style scoped>\n",
       "    .dataframe tbody tr th:only-of-type {\n",
       "        vertical-align: middle;\n",
       "    }\n",
       "\n",
       "    .dataframe tbody tr th {\n",
       "        vertical-align: top;\n",
       "    }\n",
       "\n",
       "    .dataframe thead th {\n",
       "        text-align: right;\n",
       "    }\n",
       "</style>\n",
       "<table border=\"1\" class=\"dataframe\">\n",
       "  <thead>\n",
       "    <tr style=\"text-align: right;\">\n",
       "      <th></th>\n",
       "      <th>date</th>\n",
       "      <th>rain</th>\n",
       "      <th>temp</th>\n",
       "      <th>vappr</th>\n",
       "      <th>msl</th>\n",
       "      <th>wdsp</th>\n",
       "      <th>wddir</th>\n",
       "    </tr>\n",
       "  </thead>\n",
       "  <tbody>\n",
       "    <tr>\n",
       "      <th>0</th>\n",
       "      <td>01-jan-1944 00:00</td>\n",
       "      <td>0.0</td>\n",
       "      <td>9.3</td>\n",
       "      <td>10.1</td>\n",
       "      <td>1034.3</td>\n",
       "      <td>12</td>\n",
       "      <td>300</td>\n",
       "    </tr>\n",
       "    <tr>\n",
       "      <th>1</th>\n",
       "      <td>01-jan-1944 01:00</td>\n",
       "      <td>0.0</td>\n",
       "      <td>8.9</td>\n",
       "      <td>10.3</td>\n",
       "      <td>1033.9</td>\n",
       "      <td>9</td>\n",
       "      <td>290</td>\n",
       "    </tr>\n",
       "    <tr>\n",
       "      <th>2</th>\n",
       "      <td>01-jan-1944 02:00</td>\n",
       "      <td>0.0</td>\n",
       "      <td>9.4</td>\n",
       "      <td>9.7</td>\n",
       "      <td>1033.4</td>\n",
       "      <td>11</td>\n",
       "      <td>280</td>\n",
       "    </tr>\n",
       "    <tr>\n",
       "      <th>3</th>\n",
       "      <td>01-jan-1944 03:00</td>\n",
       "      <td>0.0</td>\n",
       "      <td>9.3</td>\n",
       "      <td>10.2</td>\n",
       "      <td>1032.8</td>\n",
       "      <td>11</td>\n",
       "      <td>280</td>\n",
       "    </tr>\n",
       "    <tr>\n",
       "      <th>4</th>\n",
       "      <td>01-jan-1944 04:00</td>\n",
       "      <td>0.5</td>\n",
       "      <td>8.6</td>\n",
       "      <td>9.9</td>\n",
       "      <td>1032.4</td>\n",
       "      <td>11</td>\n",
       "      <td>300</td>\n",
       "    </tr>\n",
       "  </tbody>\n",
       "</table>\n",
       "</div>"
      ],
      "text/plain": [
       "                date rain temp vappr     msl wdsp wddir\n",
       "0  01-jan-1944 00:00  0.0  9.3  10.1  1034.3   12   300\n",
       "1  01-jan-1944 01:00  0.0  8.9  10.3  1033.9    9   290\n",
       "2  01-jan-1944 02:00  0.0  9.4   9.7  1033.4   11   280\n",
       "3  01-jan-1944 03:00  0.0  9.3  10.2  1032.8   11   280\n",
       "4  01-jan-1944 04:00  0.5  8.6   9.9  1032.4   11   300"
      ]
     },
     "execution_count": 2,
     "metadata": {},
     "output_type": "execute_result"
    }
   ],
   "source": [
    "# Uploading the dataset to my data frame, skipping the first 23 rows as the dataset starts at row 24. \n",
    "# Setting low_memory=False - easier to upload in big datasets.\n",
    "df = pd.read_csv('./data/data_valentia.csv', skiprows=23, low_memory=False)\n",
    "\n",
    "# Creating a subset using only the data I need for this project.\n",
    "# Two ways of doing it:\n",
    "df_valentia = df[['date', 'rain', 'temp', 'vappr', 'msl', 'wdsp', 'wddir']].copy() # easier\n",
    "# or:\n",
    "# df_valentia = df.drop(columns=['ww', 'sun', 'w', 'vis', 'clht', 'clamt', 'ind', 'ind.1', 'ind.2', 'ind.3', 'ind.4']) \n",
    "\n",
    "df_valentia.head(5)"
   ]
  },
  {
   "cell_type": "markdown",
   "metadata": {},
   "source": [
    "### Checking the dataset."
   ]
  },
  {
   "cell_type": "code",
   "execution_count": 3,
   "metadata": {},
   "outputs": [
    {
     "name": "stdout",
     "output_type": "stream",
     "text": [
      "<class 'pandas.core.frame.DataFrame'>\n",
      "RangeIndex: 709320 entries, 0 to 709319\n",
      "Data columns (total 7 columns):\n",
      " #   Column  Non-Null Count   Dtype \n",
      "---  ------  --------------   ----- \n",
      " 0   date    709320 non-null  object\n",
      " 1   rain    709320 non-null  object\n",
      " 2   temp    709320 non-null  object\n",
      " 3   vappr   709320 non-null  object\n",
      " 4   msl     709320 non-null  object\n",
      " 5   wdsp    709320 non-null  object\n",
      " 6   wddir   709320 non-null  object\n",
      "dtypes: object(7)\n",
      "memory usage: 37.9+ MB\n"
     ]
    }
   ],
   "source": [
    "# Information about our dataset.\n",
    "df_valentia.info()"
   ]
  },
  {
   "cell_type": "markdown",
   "metadata": {},
   "source": [
    "### Changing the data types in my dataset.\n",
    "\n",
    "As we can see from the above all data types in the dataset are object type. To change this I am going to:\n",
    "- Change the date column type to date type data.\n",
    "- Change the rest of the columns to float type data. \n",
    "- I’m converting the data type of my columns to `float32` to reduce memory usage, as my dataset is quite large.\n",
    "- I’m creating a function for these changes in the `project_functions.py` file, which will also serve as a repository for all the functions used in my project.\n",
    "- I am setting the `date` column as the index to make it easier to work with the data based on time, like sorting or grouping by dates."
   ]
  },
  {
   "cell_type": "code",
   "execution_count": 4,
   "metadata": {},
   "outputs": [],
   "source": [
    "# Columns_to_convert will pass to `convert_columns_to_float` function all columns that need to change to numeric data.  \n",
    "columns_to_convert = ['rain', 'temp', 'vappr', 'msl', 'wdsp', 'wddir']\n",
    "df_valentia = convert_columns_to_float(df_valentia, columns_to_convert)\n",
    "df_valentia['date'] = pd.to_datetime(df_valentia['date'], format=\"%d-%b-%Y %H:%M\", errors='coerce')\n",
    "# Setting the date as index\n",
    "df_valentia.set_index('date', inplace=True)"
   ]
  },
  {
   "cell_type": "code",
   "execution_count": 5,
   "metadata": {},
   "outputs": [
    {
     "name": "stdout",
     "output_type": "stream",
     "text": [
      "<class 'pandas.core.frame.DataFrame'>\n",
      "DatetimeIndex: 709320 entries, 1944-01-01 00:00:00 to 2024-12-01 00:00:00\n",
      "Data columns (total 6 columns):\n",
      " #   Column  Non-Null Count   Dtype  \n",
      "---  ------  --------------   -----  \n",
      " 0   rain    709278 non-null  float32\n",
      " 1   temp    709260 non-null  float32\n",
      " 2   vappr   709260 non-null  float32\n",
      " 3   msl     709260 non-null  float32\n",
      " 4   wdsp    709275 non-null  float32\n",
      " 5   wddir   709211 non-null  float32\n",
      "dtypes: float32(6)\n",
      "memory usage: 21.6 MB\n"
     ]
    }
   ],
   "source": [
    "# With the `.info` command I am checking that the changes took effect.\n",
    "df_valentia.info()"
   ]
  },
  {
   "cell_type": "code",
   "execution_count": 6,
   "metadata": {},
   "outputs": [
    {
     "data": {
      "text/html": [
       "<div>\n",
       "<style scoped>\n",
       "    .dataframe tbody tr th:only-of-type {\n",
       "        vertical-align: middle;\n",
       "    }\n",
       "\n",
       "    .dataframe tbody tr th {\n",
       "        vertical-align: top;\n",
       "    }\n",
       "\n",
       "    .dataframe thead th {\n",
       "        text-align: right;\n",
       "    }\n",
       "</style>\n",
       "<table border=\"1\" class=\"dataframe\">\n",
       "  <thead>\n",
       "    <tr style=\"text-align: right;\">\n",
       "      <th></th>\n",
       "      <th>rain</th>\n",
       "      <th>temp</th>\n",
       "      <th>vappr</th>\n",
       "      <th>msl</th>\n",
       "      <th>wdsp</th>\n",
       "      <th>wddir</th>\n",
       "    </tr>\n",
       "    <tr>\n",
       "      <th>date</th>\n",
       "      <th></th>\n",
       "      <th></th>\n",
       "      <th></th>\n",
       "      <th></th>\n",
       "      <th></th>\n",
       "      <th></th>\n",
       "    </tr>\n",
       "  </thead>\n",
       "  <tbody>\n",
       "    <tr>\n",
       "      <th>1944-01-01 00:00:00</th>\n",
       "      <td>0.0</td>\n",
       "      <td>9.3</td>\n",
       "      <td>10.1</td>\n",
       "      <td>1034.300049</td>\n",
       "      <td>12.0</td>\n",
       "      <td>300.0</td>\n",
       "    </tr>\n",
       "    <tr>\n",
       "      <th>1944-01-01 01:00:00</th>\n",
       "      <td>0.0</td>\n",
       "      <td>8.9</td>\n",
       "      <td>10.3</td>\n",
       "      <td>1033.900024</td>\n",
       "      <td>9.0</td>\n",
       "      <td>290.0</td>\n",
       "    </tr>\n",
       "    <tr>\n",
       "      <th>1944-01-01 02:00:00</th>\n",
       "      <td>0.0</td>\n",
       "      <td>9.4</td>\n",
       "      <td>9.7</td>\n",
       "      <td>1033.400024</td>\n",
       "      <td>11.0</td>\n",
       "      <td>280.0</td>\n",
       "    </tr>\n",
       "  </tbody>\n",
       "</table>\n",
       "</div>"
      ],
      "text/plain": [
       "                     rain  temp  vappr          msl  wdsp  wddir\n",
       "date                                                            \n",
       "1944-01-01 00:00:00   0.0   9.3   10.1  1034.300049  12.0  300.0\n",
       "1944-01-01 01:00:00   0.0   8.9   10.3  1033.900024   9.0  290.0\n",
       "1944-01-01 02:00:00   0.0   9.4    9.7  1033.400024  11.0  280.0"
      ]
     },
     "execution_count": 6,
     "metadata": {},
     "output_type": "execute_result"
    }
   ],
   "source": [
    "# Displaying the first three rows to check the structure and columns again in my dataset.\n",
    "df_valentia.head(3)"
   ]
  },
  {
   "cell_type": "markdown",
   "metadata": {},
   "source": [
    "### Checking if any data is missing - NAN or null values."
   ]
  },
  {
   "cell_type": "code",
   "execution_count": 7,
   "metadata": {},
   "outputs": [],
   "source": [
    "# Checking for missing data.\n",
    "# df_valentia.isnull().sum()\n",
    "# df_valentia.isna().sum()\n",
    "# (df_valentia == ' ').sum()"
   ]
  },
  {
   "cell_type": "markdown",
   "metadata": {},
   "source": [
    "### Checking for single space values `' '`"
   ]
  },
  {
   "cell_type": "markdown",
   "metadata": {},
   "source": [
    "In Assignment Six of this module, I found out that using `.isna()` and `.isnull()` alone is insufficient for cleaning the dataset. Sometimes, cells can contain an empty value represented by a single space (stored as a string). Therefore, in the next section, I will check for any cells that contain a single space as their value."
   ]
  },
  {
   "cell_type": "markdown",
   "metadata": {},
   "source": [
    "### Counting the rows that hold empty cells.\n",
    "\n",
    "* I created a function in the `project_functions` file that counts all the rows that hold empty cells. "
   ]
  },
  {
   "cell_type": "code",
   "execution_count": 8,
   "metadata": {},
   "outputs": [
    {
     "name": "stdout",
     "output_type": "stream",
     "text": [
      "Rows with 0 empty cells: 709144\n",
      "Rows with 1 empty cells: 75\n",
      "Rows with 2 empty cells: 41\n",
      "Rows with 3 empty cells: 22\n",
      "Rows with 4 empty cells: 37\n",
      "Rows with 5 empty cells: 1\n",
      "Total rows with at least one empty values: 176\n"
     ]
    },
    {
     "data": {
      "text/plain": [
       "176"
      ]
     },
     "execution_count": 8,
     "metadata": {},
     "output_type": "execute_result"
    }
   ],
   "source": [
    "# calling the funtion from the 'project_functions.py' file.\n",
    "count_rows_with_empty_or_space_cells_detail(df_valentia)"
   ]
  },
  {
   "cell_type": "markdown",
   "metadata": {},
   "source": [
    "### Cleaning the rows with empty cells.\n",
    "\n",
    "* Because of the big size of the dataset (709320 records) I decided to remove all the rows that contain empty cells.\n",
    "* The total records after removing 176 rows becomes 709144."
   ]
  },
  {
   "cell_type": "code",
   "execution_count": 9,
   "metadata": {},
   "outputs": [
    {
     "name": "stdout",
     "output_type": "stream",
     "text": [
      "<class 'pandas.core.frame.DataFrame'>\n",
      "DatetimeIndex: 709144 entries, 1944-01-01 00:00:00 to 2024-12-01 00:00:00\n",
      "Data columns (total 6 columns):\n",
      " #   Column  Non-Null Count   Dtype  \n",
      "---  ------  --------------   -----  \n",
      " 0   rain    709144 non-null  float32\n",
      " 1   temp    709144 non-null  float32\n",
      " 2   vappr   709144 non-null  float32\n",
      " 3   msl     709144 non-null  float32\n",
      " 4   wdsp    709144 non-null  float32\n",
      " 5   wddir   709144 non-null  float32\n",
      "dtypes: float32(6)\n",
      "memory usage: 21.6 MB\n"
     ]
    }
   ],
   "source": [
    "df_valentia_clean = remove_rows_with_missing_data(df_valentia)\n",
    "df_valentia_clean.info()"
   ]
  },
  {
   "cell_type": "markdown",
   "metadata": {},
   "source": [
    "### Converting wind speed to metres per second.\n",
    "\n",
    "To convert the wind speed (wdsp) from knots to metres per second, I will use the conversion factor of 1 knot = 0.51444 metres/second. In the dataset, wind speed is currently measured in knots, representing the speed of the wind in nautical miles per hour. For my analysis, I need the wind speed expressed in metres per second. To achieve this, I will create a new column in the df_valentia dataset to store the wind speed values converted to metres per second."
   ]
  },
  {
   "cell_type": "code",
   "execution_count": 10,
   "metadata": {},
   "outputs": [],
   "source": [
    "# Create a new column with the windspeed in metre/second\n",
    "df_valentia['wdsp_m/s'] = (df_valentia['wdsp'] * 0.51444).round(2)"
   ]
  },
  {
   "cell_type": "code",
   "execution_count": 11,
   "metadata": {},
   "outputs": [
    {
     "data": {
      "text/html": [
       "<div>\n",
       "<style scoped>\n",
       "    .dataframe tbody tr th:only-of-type {\n",
       "        vertical-align: middle;\n",
       "    }\n",
       "\n",
       "    .dataframe tbody tr th {\n",
       "        vertical-align: top;\n",
       "    }\n",
       "\n",
       "    .dataframe thead th {\n",
       "        text-align: right;\n",
       "    }\n",
       "</style>\n",
       "<table border=\"1\" class=\"dataframe\">\n",
       "  <thead>\n",
       "    <tr style=\"text-align: right;\">\n",
       "      <th></th>\n",
       "      <th>rain</th>\n",
       "      <th>temp</th>\n",
       "      <th>vappr</th>\n",
       "      <th>msl</th>\n",
       "      <th>wdsp</th>\n",
       "      <th>wddir</th>\n",
       "      <th>wdsp_m/s</th>\n",
       "    </tr>\n",
       "    <tr>\n",
       "      <th>date</th>\n",
       "      <th></th>\n",
       "      <th></th>\n",
       "      <th></th>\n",
       "      <th></th>\n",
       "      <th></th>\n",
       "      <th></th>\n",
       "      <th></th>\n",
       "    </tr>\n",
       "  </thead>\n",
       "  <tbody>\n",
       "    <tr>\n",
       "      <th>1944-01-01 00:00:00</th>\n",
       "      <td>0.0</td>\n",
       "      <td>9.3</td>\n",
       "      <td>10.1</td>\n",
       "      <td>1034.300049</td>\n",
       "      <td>12.0</td>\n",
       "      <td>300.0</td>\n",
       "      <td>6.17</td>\n",
       "    </tr>\n",
       "    <tr>\n",
       "      <th>1944-01-01 01:00:00</th>\n",
       "      <td>0.0</td>\n",
       "      <td>8.9</td>\n",
       "      <td>10.3</td>\n",
       "      <td>1033.900024</td>\n",
       "      <td>9.0</td>\n",
       "      <td>290.0</td>\n",
       "      <td>4.63</td>\n",
       "    </tr>\n",
       "    <tr>\n",
       "      <th>1944-01-01 02:00:00</th>\n",
       "      <td>0.0</td>\n",
       "      <td>9.4</td>\n",
       "      <td>9.7</td>\n",
       "      <td>1033.400024</td>\n",
       "      <td>11.0</td>\n",
       "      <td>280.0</td>\n",
       "      <td>5.66</td>\n",
       "    </tr>\n",
       "    <tr>\n",
       "      <th>1944-01-01 03:00:00</th>\n",
       "      <td>0.0</td>\n",
       "      <td>9.3</td>\n",
       "      <td>10.2</td>\n",
       "      <td>1032.800049</td>\n",
       "      <td>11.0</td>\n",
       "      <td>280.0</td>\n",
       "      <td>5.66</td>\n",
       "    </tr>\n",
       "    <tr>\n",
       "      <th>1944-01-01 04:00:00</th>\n",
       "      <td>0.5</td>\n",
       "      <td>8.6</td>\n",
       "      <td>9.9</td>\n",
       "      <td>1032.400024</td>\n",
       "      <td>11.0</td>\n",
       "      <td>300.0</td>\n",
       "      <td>5.66</td>\n",
       "    </tr>\n",
       "  </tbody>\n",
       "</table>\n",
       "</div>"
      ],
      "text/plain": [
       "                     rain  temp  vappr          msl  wdsp  wddir  wdsp_m/s\n",
       "date                                                                      \n",
       "1944-01-01 00:00:00   0.0   9.3   10.1  1034.300049  12.0  300.0      6.17\n",
       "1944-01-01 01:00:00   0.0   8.9   10.3  1033.900024   9.0  290.0      4.63\n",
       "1944-01-01 02:00:00   0.0   9.4    9.7  1033.400024  11.0  280.0      5.66\n",
       "1944-01-01 03:00:00   0.0   9.3   10.2  1032.800049  11.0  280.0      5.66\n",
       "1944-01-01 04:00:00   0.5   8.6    9.9  1032.400024  11.0  300.0      5.66"
      ]
     },
     "execution_count": 11,
     "metadata": {},
     "output_type": "execute_result"
    }
   ],
   "source": [
    "df_valentia.head()"
   ]
  },
  {
   "cell_type": "code",
   "execution_count": 12,
   "metadata": {},
   "outputs": [
    {
     "data": {
      "text/html": [
       "<div>\n",
       "<style scoped>\n",
       "    .dataframe tbody tr th:only-of-type {\n",
       "        vertical-align: middle;\n",
       "    }\n",
       "\n",
       "    .dataframe tbody tr th {\n",
       "        vertical-align: top;\n",
       "    }\n",
       "\n",
       "    .dataframe thead th {\n",
       "        text-align: right;\n",
       "    }\n",
       "</style>\n",
       "<table border=\"1\" class=\"dataframe\">\n",
       "  <thead>\n",
       "    <tr style=\"text-align: right;\">\n",
       "      <th></th>\n",
       "      <th>rain</th>\n",
       "      <th>temp</th>\n",
       "      <th>vappr</th>\n",
       "      <th>msl</th>\n",
       "      <th>wddir</th>\n",
       "      <th>wdsp_m/s</th>\n",
       "    </tr>\n",
       "    <tr>\n",
       "      <th>date</th>\n",
       "      <th></th>\n",
       "      <th></th>\n",
       "      <th></th>\n",
       "      <th></th>\n",
       "      <th></th>\n",
       "      <th></th>\n",
       "    </tr>\n",
       "  </thead>\n",
       "  <tbody>\n",
       "    <tr>\n",
       "      <th>1944-01-01 00:00:00</th>\n",
       "      <td>0.0</td>\n",
       "      <td>9.3</td>\n",
       "      <td>10.1</td>\n",
       "      <td>1034.300049</td>\n",
       "      <td>300.0</td>\n",
       "      <td>6.17</td>\n",
       "    </tr>\n",
       "    <tr>\n",
       "      <th>1944-01-01 01:00:00</th>\n",
       "      <td>0.0</td>\n",
       "      <td>8.9</td>\n",
       "      <td>10.3</td>\n",
       "      <td>1033.900024</td>\n",
       "      <td>290.0</td>\n",
       "      <td>4.63</td>\n",
       "    </tr>\n",
       "    <tr>\n",
       "      <th>1944-01-01 02:00:00</th>\n",
       "      <td>0.0</td>\n",
       "      <td>9.4</td>\n",
       "      <td>9.7</td>\n",
       "      <td>1033.400024</td>\n",
       "      <td>280.0</td>\n",
       "      <td>5.66</td>\n",
       "    </tr>\n",
       "    <tr>\n",
       "      <th>1944-01-01 03:00:00</th>\n",
       "      <td>0.0</td>\n",
       "      <td>9.3</td>\n",
       "      <td>10.2</td>\n",
       "      <td>1032.800049</td>\n",
       "      <td>280.0</td>\n",
       "      <td>5.66</td>\n",
       "    </tr>\n",
       "    <tr>\n",
       "      <th>1944-01-01 04:00:00</th>\n",
       "      <td>0.5</td>\n",
       "      <td>8.6</td>\n",
       "      <td>9.9</td>\n",
       "      <td>1032.400024</td>\n",
       "      <td>300.0</td>\n",
       "      <td>5.66</td>\n",
       "    </tr>\n",
       "  </tbody>\n",
       "</table>\n",
       "</div>"
      ],
      "text/plain": [
       "                     rain  temp  vappr          msl  wddir  wdsp_m/s\n",
       "date                                                                \n",
       "1944-01-01 00:00:00   0.0   9.3   10.1  1034.300049  300.0      6.17\n",
       "1944-01-01 01:00:00   0.0   8.9   10.3  1033.900024  290.0      4.63\n",
       "1944-01-01 02:00:00   0.0   9.4    9.7  1033.400024  280.0      5.66\n",
       "1944-01-01 03:00:00   0.0   9.3   10.2  1032.800049  280.0      5.66\n",
       "1944-01-01 04:00:00   0.5   8.6    9.9  1032.400024  300.0      5.66"
      ]
     },
     "execution_count": 12,
     "metadata": {},
     "output_type": "execute_result"
    }
   ],
   "source": [
    "# I don't need any more the wind speed column in knot so I am removing it from the dataset.\n",
    "df_valentia = df_valentia.drop(columns=['wdsp'])\n",
    "df_valentia.head()"
   ]
  },
  {
   "cell_type": "code",
   "execution_count": 13,
   "metadata": {},
   "outputs": [
    {
     "name": "stdout",
     "output_type": "stream",
     "text": [
      "<class 'pandas.core.frame.DataFrame'>\n",
      "DatetimeIndex: 709320 entries, 1944-01-01 00:00:00 to 2024-12-01 00:00:00\n",
      "Data columns (total 6 columns):\n",
      " #   Column    Non-Null Count   Dtype  \n",
      "---  ------    --------------   -----  \n",
      " 0   rain      709278 non-null  float32\n",
      " 1   temp      709260 non-null  float32\n",
      " 2   vappr     709260 non-null  float32\n",
      " 3   msl       709260 non-null  float32\n",
      " 4   wddir     709211 non-null  float32\n",
      " 5   wdsp_m/s  709275 non-null  float32\n",
      "dtypes: float32(6)\n",
      "memory usage: 21.6 MB\n"
     ]
    },
    {
     "data": {
      "text/plain": [
       "Index(['rain', 'temp', 'vappr', 'msl', 'wddir', 'wdsp_m/s'], dtype='object')"
      ]
     },
     "execution_count": 13,
     "metadata": {},
     "output_type": "execute_result"
    }
   ],
   "source": [
    "df_valentia.info()\n",
    "df_valentia.columns"
   ]
  },
  {
   "cell_type": "markdown",
   "metadata": {},
   "source": [
    "***\n",
    "## Part 2: Analysing and working with the dataset.\n",
    "***"
   ]
  },
  {
   "cell_type": "markdown",
   "metadata": {},
   "source": [
    "### Correlation between wind speed and other data\n",
    "\n",
    "In the next part I am checking if there is any correlation between the windspeed and the other data in the dataset."
   ]
  },
  {
   "cell_type": "code",
   "execution_count": 14,
   "metadata": {},
   "outputs": [
    {
     "data": {
      "image/png": "[encoded data removed]",
      "text/plain": [
       "<Figure size 1000x800 with 2 Axes>"
      ]
     },
     "metadata": {},
     "output_type": "display_data"
    }
   ],
   "source": [
    "# Selecting columns to for correlation analysis between wind and other information we have.\n",
    "selected_columns = ['wdsp_m/s','rain', 'temp', 'vappr', 'msl', 'wddir']\n",
    "correlation_df = df_valentia[selected_columns]\n",
    "\n",
    "# Calculating the correlation matrix\n",
    "correlation_matrix = correlation_df.corr()\n",
    "\n",
    "# Visualize the correlation matrix with a heatmap\n",
    "plt.figure(figsize=(10, 8))\n",
    "sns.heatmap(correlation_matrix, annot=True, cmap='coolwarm', fmt='.2f', cbar=True)\n",
    "plt.title('Correlation Between Wind and other data collected')\n",
    "plt.show()"
   ]
  },
  {
   "cell_type": "markdown",
   "metadata": {},
   "source": [
    "### Deciding on which data to keep:\n",
    "\n",
    "As we can see from the above, there is no direct connection between wind speed and the other data we currently have. \n",
    "\n",
    "In the next section, I will:\n",
    "\n",
    "1. **Calculate the air density** and add it as a new column. The required data for this calculation includes:\n",
    "   - Temperature (`temp`)\n",
    "   - Vapour pressure (`vappr`)\n",
    "   - Mean sea level pressure (`msl`)\n",
    "\n",
    "2. **Calculate the power output** and add it as a new column. The required data for this calculation includes:\n",
    "   - Air density (`air_density`)\n",
    "   - Wind speed (`wdsp_m/s`)\n",
    "   - Rotor swept area - calculated for a common wind turbine size with a diameter of 100 meters.\n",
    "   - Power coefficient - typically ranging between 0.3 and 0.5. For this analysis, I used a value of 0.4.\n",
    "\n",
    "3. **Remove unnecessary columns**, including:\n",
    "   - Wind direction (`wddir`): While wind direction is crucial for energy output, modern wind turbines address this factor automatically. Their blades adjust dynamically to optimize wind capture regardless of direction, making this data redundant for my calculations.\n"
   ]
  },
  {
   "cell_type": "markdown",
   "metadata": {},
   "source": [
    "### Calculating Air Density\n",
    "\n",
    "To calculate the air density using the data available in my dataset I used the general air density formula derived from the _Ideal Gas Law_ for both dry air and water vapor: \n",
    "\n",
    "$$\n",
    "\\rho = \\frac{p_d}{R_d T} + \\frac{p_v}{R_v T}\n",
    "$$\n",
    "\n",
    "Where:\n",
    "\n",
    "- $ \\rho $: Air density in $ \\text{kg/m}^3 $\n",
    "- $ p_d $: Dry air pressure, calculated as $ p_d = \\text{msl} - \\text{vappr} $ (Pa)\n",
    "- $ p_v $: Vapor pressure ($ \\text{vappr} $) in Pascals (Pa)\n",
    "- $ T $: Temperature in Kelvin (K), converted as:\n",
    "\n",
    "  $$\n",
    "  T_{\\text{Kelvin}} = T_{\\text{Celsius}} + 273.15\n",
    "  $$\n",
    "\n",
    "- $ R_d $: Specific gas constant for dry air (287.05 J/(kg·K))\n",
    "- $ R_v $: Specific gas constant for water vapor (461.5 J/(kg·K))\n",
    "\n",
    "\n",
    "There are two functions in my `project_functions.py` folder that deal with the calculations of air density in the project:\n",
    "- `calculate_air_density`\n",
    "- `add_new_column`\n",
    "\n",
    "The ``add_new_column`, computes air density by internally calling the `calculate_air_density` function, which uses the formula provided above. After calculating air density, the `add_new_column` function removes unnecessary columns from the DataFrame to optimize memory usage."
   ]
  },
  {
   "cell_type": "code",
   "execution_count": 15,
   "metadata": {},
   "outputs": [
    {
     "data": {
      "text/html": [
       "<div>\n",
       "<style scoped>\n",
       "    .dataframe tbody tr th:only-of-type {\n",
       "        vertical-align: middle;\n",
       "    }\n",
       "\n",
       "    .dataframe tbody tr th {\n",
       "        vertical-align: top;\n",
       "    }\n",
       "\n",
       "    .dataframe thead th {\n",
       "        text-align: right;\n",
       "    }\n",
       "</style>\n",
       "<table border=\"1\" class=\"dataframe\">\n",
       "  <thead>\n",
       "    <tr style=\"text-align: right;\">\n",
       "      <th></th>\n",
       "      <th>rain</th>\n",
       "      <th>wddir</th>\n",
       "      <th>wdsp_m/s</th>\n",
       "      <th>air_density</th>\n",
       "    </tr>\n",
       "    <tr>\n",
       "      <th>date</th>\n",
       "      <th></th>\n",
       "      <th></th>\n",
       "      <th></th>\n",
       "      <th></th>\n",
       "    </tr>\n",
       "  </thead>\n",
       "  <tbody>\n",
       "    <tr>\n",
       "      <th>1944-01-01 00:00:00</th>\n",
       "      <td>0.0</td>\n",
       "      <td>300.0</td>\n",
       "      <td>6.17</td>\n",
       "      <td>1.270988</td>\n",
       "    </tr>\n",
       "    <tr>\n",
       "      <th>1944-01-01 01:00:00</th>\n",
       "      <td>0.0</td>\n",
       "      <td>290.0</td>\n",
       "      <td>4.63</td>\n",
       "      <td>1.272203</td>\n",
       "    </tr>\n",
       "    <tr>\n",
       "      <th>1944-01-01 02:00:00</th>\n",
       "      <td>0.0</td>\n",
       "      <td>280.0</td>\n",
       "      <td>5.66</td>\n",
       "      <td>1.269615</td>\n",
       "    </tr>\n",
       "    <tr>\n",
       "      <th>1944-01-01 03:00:00</th>\n",
       "      <td>0.0</td>\n",
       "      <td>280.0</td>\n",
       "      <td>5.66</td>\n",
       "      <td>1.269091</td>\n",
       "    </tr>\n",
       "    <tr>\n",
       "      <th>1944-01-01 04:00:00</th>\n",
       "      <td>0.5</td>\n",
       "      <td>300.0</td>\n",
       "      <td>5.66</td>\n",
       "      <td>1.271890</td>\n",
       "    </tr>\n",
       "  </tbody>\n",
       "</table>\n",
       "</div>"
      ],
      "text/plain": [
       "                     rain  wddir  wdsp_m/s  air_density\n",
       "date                                                   \n",
       "1944-01-01 00:00:00   0.0  300.0      6.17     1.270988\n",
       "1944-01-01 01:00:00   0.0  290.0      4.63     1.272203\n",
       "1944-01-01 02:00:00   0.0  280.0      5.66     1.269615\n",
       "1944-01-01 03:00:00   0.0  280.0      5.66     1.269091\n",
       "1944-01-01 04:00:00   0.5  300.0      5.66     1.271890"
      ]
     },
     "execution_count": 15,
     "metadata": {},
     "output_type": "execute_result"
    }
   ],
   "source": [
    "# Making changes to the dataset by adding a new column\n",
    "df_valentia = add_new_column(df_valentia, column='air_density')\n",
    "# Checking if it works\n",
    "df_valentia.head(5)"
   ]
  },
  {
   "cell_type": "code",
   "execution_count": 16,
   "metadata": {},
   "outputs": [
    {
     "name": "stdout",
     "output_type": "stream",
     "text": [
      "<class 'pandas.core.frame.DataFrame'>\n",
      "DatetimeIndex: 709320 entries, 1944-01-01 00:00:00 to 2024-12-01 00:00:00\n",
      "Data columns (total 4 columns):\n",
      " #   Column       Non-Null Count   Dtype  \n",
      "---  ------       --------------   -----  \n",
      " 0   rain         709278 non-null  float32\n",
      " 1   wddir        709211 non-null  float32\n",
      " 2   wdsp_m/s     709275 non-null  float32\n",
      " 3   air_density  709260 non-null  float64\n",
      "dtypes: float32(3), float64(1)\n",
      "memory usage: 18.9 MB\n"
     ]
    }
   ],
   "source": [
    "# Information about the dataset.\n",
    "df_valentia.info()"
   ]
  },
  {
   "cell_type": "markdown",
   "metadata": {},
   "source": [
    "### Checking the correlation between the data in the edited DataFrame df_valentia"
   ]
  },
  {
   "cell_type": "code",
   "execution_count": 17,
   "metadata": {},
   "outputs": [
    {
     "data": {
      "text/plain": [
       "count    709260.000000\n",
       "mean          1.238767\n",
       "std           0.023312\n",
       "min           1.149262\n",
       "25%           1.222182\n",
       "50%           1.236412\n",
       "75%           1.253398\n",
       "max           1.347003\n",
       "Name: air_density, dtype: float64"
      ]
     },
     "execution_count": 17,
     "metadata": {},
     "output_type": "execute_result"
    }
   ],
   "source": [
    "# Checking the air density values: range, mean, std etc...\n",
    "# Get summary statistics for the column\n",
    "df_valentia['air_density'].describe()"
   ]
  },
  {
   "cell_type": "markdown",
   "metadata": {},
   "source": [
    "### Calculating energy power\n",
    "\n",
    "The Sustainable Energy Authority of Ireland (SEAI) notes that in recent years, rotor diameters of 100 meters or more at hub heights exceeding 100 meters are common.\n",
    "For this project I am going to calculate the output power using the diameter as 100m for my calculations and Power Coefficient(Efficiency) of 0.4.\n",
    "\n",
    "The wind power equation is expressed as follows:\n",
    "\n",
    "$$\n",
    "P = 0.5 \\times \\rho \\times A \\times V^3 \\times E\n",
    "$$\n",
    "\n",
    "Where:\n",
    "- **P** = Power in Watts  \n",
    "- **$\\rho$** = Air Density in kg/m³ (about 1.225 kg/m³ at sea level, decreases with altitude)  \n",
    "- **A** = Rotor Swept Area in m² = $\\pi r^2$ (where $r$ = radius or blade length)  \n",
    "- **V** = Wind Speed in m/s (cubed)  \n",
    "- **E** = Efficiency (Power Coefficient, typically between 0.3 and 0.5)"
   ]
  },
  {
   "cell_type": "code",
   "execution_count": 18,
   "metadata": {},
   "outputs": [
    {
     "data": {
      "text/html": [
       "<div>\n",
       "<style scoped>\n",
       "    .dataframe tbody tr th:only-of-type {\n",
       "        vertical-align: middle;\n",
       "    }\n",
       "\n",
       "    .dataframe tbody tr th {\n",
       "        vertical-align: top;\n",
       "    }\n",
       "\n",
       "    .dataframe thead th {\n",
       "        text-align: right;\n",
       "    }\n",
       "</style>\n",
       "<table border=\"1\" class=\"dataframe\">\n",
       "  <thead>\n",
       "    <tr style=\"text-align: right;\">\n",
       "      <th></th>\n",
       "      <th>rain</th>\n",
       "      <th>wdsp_m/s</th>\n",
       "      <th>air_density</th>\n",
       "      <th>power_kw</th>\n",
       "    </tr>\n",
       "    <tr>\n",
       "      <th>date</th>\n",
       "      <th></th>\n",
       "      <th></th>\n",
       "      <th></th>\n",
       "      <th></th>\n",
       "    </tr>\n",
       "  </thead>\n",
       "  <tbody>\n",
       "    <tr>\n",
       "      <th>1944-01-01 00:00:00</th>\n",
       "      <td>0.0</td>\n",
       "      <td>6.17</td>\n",
       "      <td>1.270988</td>\n",
       "      <td>468.94</td>\n",
       "    </tr>\n",
       "    <tr>\n",
       "      <th>1944-01-01 01:00:00</th>\n",
       "      <td>0.0</td>\n",
       "      <td>4.63</td>\n",
       "      <td>1.272203</td>\n",
       "      <td>198.34</td>\n",
       "    </tr>\n",
       "    <tr>\n",
       "      <th>1944-01-01 02:00:00</th>\n",
       "      <td>0.0</td>\n",
       "      <td>5.66</td>\n",
       "      <td>1.269615</td>\n",
       "      <td>361.61</td>\n",
       "    </tr>\n",
       "    <tr>\n",
       "      <th>1944-01-01 03:00:00</th>\n",
       "      <td>0.0</td>\n",
       "      <td>5.66</td>\n",
       "      <td>1.269091</td>\n",
       "      <td>361.46</td>\n",
       "    </tr>\n",
       "    <tr>\n",
       "      <th>1944-01-01 04:00:00</th>\n",
       "      <td>0.5</td>\n",
       "      <td>5.66</td>\n",
       "      <td>1.271890</td>\n",
       "      <td>362.26</td>\n",
       "    </tr>\n",
       "  </tbody>\n",
       "</table>\n",
       "</div>"
      ],
      "text/plain": [
       "                     rain  wdsp_m/s  air_density  power_kw\n",
       "date                                                      \n",
       "1944-01-01 00:00:00   0.0      6.17     1.270988    468.94\n",
       "1944-01-01 01:00:00   0.0      4.63     1.272203    198.34\n",
       "1944-01-01 02:00:00   0.0      5.66     1.269615    361.61\n",
       "1944-01-01 03:00:00   0.0      5.66     1.269091    361.46\n",
       "1944-01-01 04:00:00   0.5      5.66     1.271890    362.26"
      ]
     },
     "execution_count": 18,
     "metadata": {},
     "output_type": "execute_result"
    }
   ],
   "source": [
    "# Making changes to the dataset by adding a new column 'power_output' \n",
    "df_valentia = add_new_column(df_valentia, column='power_kw')\n",
    "# Checking if it works\n",
    "df_valentia.head(5)"
   ]
  },
  {
   "cell_type": "markdown",
   "metadata": {},
   "source": []
  },
  {
   "cell_type": "code",
   "execution_count": 19,
   "metadata": {},
   "outputs": [
    {
     "data": {
      "image/png": "[encoded data removed]",
      "text/plain": [
       "<Figure size 1000x800 with 2 Axes>"
      ]
     },
     "metadata": {},
     "output_type": "display_data"
    }
   ],
   "source": [
    "# Selecting columns to for correlation between the data in the df_valentia DataFrame\n",
    "selected_columns = ['wdsp_m/s','rain', 'air_density', 'power_kw' ]\n",
    "correlation_df = df_valentia[selected_columns]\n",
    "\n",
    "# Calculating the correlation matrix\n",
    "correlation_matrix = correlation_df.corr()\n",
    "\n",
    "# Visualize the correlation matrix with a heatmap\n",
    "plt.figure(figsize=(10, 8))\n",
    "sns.heatmap(correlation_matrix, annot=True, cmap='coolwarm', fmt='.2f', cbar=True)\n",
    "plt.title('Correlation Between Data in the Edit DataSet')\n",
    "plt.show()"
   ]
  },
  {
   "cell_type": "markdown",
   "metadata": {},
   "source": [
    "## Analyzing Data in Depth\n",
    "\n",
    "### Calculation how many hours per day the wind speed is between 4m/s(cut-in speed for the turbines to start working) to 25m/s(cut-out speed)."
   ]
  },
  {
   "cell_type": "code",
   "execution_count": 20,
   "metadata": {},
   "outputs": [
    {
     "data": {
      "text/html": [
       "<div>\n",
       "<style scoped>\n",
       "    .dataframe tbody tr th:only-of-type {\n",
       "        vertical-align: middle;\n",
       "    }\n",
       "\n",
       "    .dataframe tbody tr th {\n",
       "        vertical-align: top;\n",
       "    }\n",
       "\n",
       "    .dataframe thead th {\n",
       "        text-align: right;\n",
       "    }\n",
       "</style>\n",
       "<table border=\"1\" class=\"dataframe\">\n",
       "  <thead>\n",
       "    <tr style=\"text-align: right;\">\n",
       "      <th></th>\n",
       "      <th>rain</th>\n",
       "      <th>wdsp_m/s</th>\n",
       "      <th>air_density</th>\n",
       "      <th>power_kw</th>\n",
       "    </tr>\n",
       "    <tr>\n",
       "      <th>date</th>\n",
       "      <th></th>\n",
       "      <th></th>\n",
       "      <th></th>\n",
       "      <th></th>\n",
       "    </tr>\n",
       "  </thead>\n",
       "  <tbody>\n",
       "    <tr>\n",
       "      <th>1944-01-01 00:00:00</th>\n",
       "      <td>0.0</td>\n",
       "      <td>6.17</td>\n",
       "      <td>1.270988</td>\n",
       "      <td>468.94</td>\n",
       "    </tr>\n",
       "    <tr>\n",
       "      <th>1944-01-01 01:00:00</th>\n",
       "      <td>0.0</td>\n",
       "      <td>4.63</td>\n",
       "      <td>1.272203</td>\n",
       "      <td>198.34</td>\n",
       "    </tr>\n",
       "    <tr>\n",
       "      <th>1944-01-01 02:00:00</th>\n",
       "      <td>0.0</td>\n",
       "      <td>5.66</td>\n",
       "      <td>1.269615</td>\n",
       "      <td>361.61</td>\n",
       "    </tr>\n",
       "    <tr>\n",
       "      <th>1944-01-01 03:00:00</th>\n",
       "      <td>0.0</td>\n",
       "      <td>5.66</td>\n",
       "      <td>1.269091</td>\n",
       "      <td>361.46</td>\n",
       "    </tr>\n",
       "    <tr>\n",
       "      <th>1944-01-01 04:00:00</th>\n",
       "      <td>0.5</td>\n",
       "      <td>5.66</td>\n",
       "      <td>1.271890</td>\n",
       "      <td>362.26</td>\n",
       "    </tr>\n",
       "    <tr>\n",
       "      <th>...</th>\n",
       "      <td>...</td>\n",
       "      <td>...</td>\n",
       "      <td>...</td>\n",
       "      <td>...</td>\n",
       "    </tr>\n",
       "    <tr>\n",
       "      <th>2024-11-30 20:00:00</th>\n",
       "      <td>0.0</td>\n",
       "      <td>5.66</td>\n",
       "      <td>1.218094</td>\n",
       "      <td>346.94</td>\n",
       "    </tr>\n",
       "    <tr>\n",
       "      <th>2024-11-30 21:00:00</th>\n",
       "      <td>0.0</td>\n",
       "      <td>5.66</td>\n",
       "      <td>1.218763</td>\n",
       "      <td>347.13</td>\n",
       "    </tr>\n",
       "    <tr>\n",
       "      <th>2024-11-30 22:00:00</th>\n",
       "      <td>0.0</td>\n",
       "      <td>5.66</td>\n",
       "      <td>1.219568</td>\n",
       "      <td>347.36</td>\n",
       "    </tr>\n",
       "    <tr>\n",
       "      <th>2024-11-30 23:00:00</th>\n",
       "      <td>0.0</td>\n",
       "      <td>5.66</td>\n",
       "      <td>1.219127</td>\n",
       "      <td>347.23</td>\n",
       "    </tr>\n",
       "    <tr>\n",
       "      <th>2024-12-01 00:00:00</th>\n",
       "      <td>0.0</td>\n",
       "      <td>5.66</td>\n",
       "      <td>1.218473</td>\n",
       "      <td>347.04</td>\n",
       "    </tr>\n",
       "  </tbody>\n",
       "</table>\n",
       "<p>451169 rows × 4 columns</p>\n",
       "</div>"
      ],
      "text/plain": [
       "                     rain  wdsp_m/s  air_density  power_kw\n",
       "date                                                      \n",
       "1944-01-01 00:00:00   0.0      6.17     1.270988    468.94\n",
       "1944-01-01 01:00:00   0.0      4.63     1.272203    198.34\n",
       "1944-01-01 02:00:00   0.0      5.66     1.269615    361.61\n",
       "1944-01-01 03:00:00   0.0      5.66     1.269091    361.46\n",
       "1944-01-01 04:00:00   0.5      5.66     1.271890    362.26\n",
       "...                   ...       ...          ...       ...\n",
       "2024-11-30 20:00:00   0.0      5.66     1.218094    346.94\n",
       "2024-11-30 21:00:00   0.0      5.66     1.218763    347.13\n",
       "2024-11-30 22:00:00   0.0      5.66     1.219568    347.36\n",
       "2024-11-30 23:00:00   0.0      5.66     1.219127    347.23\n",
       "2024-12-01 00:00:00   0.0      5.66     1.218473    347.04\n",
       "\n",
       "[451169 rows x 4 columns]"
      ]
     },
     "execution_count": 20,
     "metadata": {},
     "output_type": "execute_result"
    }
   ],
   "source": [
    "df_working_valentia = df_valentia[(df_valentia['wdsp_m/s'] >= 4) & (df_valentia['wdsp_m/s'] <25)]\n",
    "\n",
    "df_working_valentia"
   ]
  },
  {
   "cell_type": "markdown",
   "metadata": {},
   "source": [
    "### Using .describe command to get statistics about data in the dataset and I will graph the results:"
   ]
  },
  {
   "cell_type": "code",
   "execution_count": 39,
   "metadata": {},
   "outputs": [
    {
     "data": {
      "text/html": [
       "<div>\n",
       "<style scoped>\n",
       "    .dataframe tbody tr th:only-of-type {\n",
       "        vertical-align: middle;\n",
       "    }\n",
       "\n",
       "    .dataframe tbody tr th {\n",
       "        vertical-align: top;\n",
       "    }\n",
       "\n",
       "    .dataframe thead th {\n",
       "        text-align: right;\n",
       "    }\n",
       "</style>\n",
       "<table border=\"1\" class=\"dataframe\">\n",
       "  <thead>\n",
       "    <tr style=\"text-align: right;\">\n",
       "      <th></th>\n",
       "      <th>rain</th>\n",
       "      <th>wdsp_m/s</th>\n",
       "      <th>air_density</th>\n",
       "      <th>power_kw</th>\n",
       "    </tr>\n",
       "  </thead>\n",
       "  <tbody>\n",
       "    <tr>\n",
       "      <th>count</th>\n",
       "      <td>451142.000000</td>\n",
       "      <td>451169.000000</td>\n",
       "      <td>451137.000000</td>\n",
       "      <td>451137.000000</td>\n",
       "    </tr>\n",
       "    <tr>\n",
       "      <th>mean</th>\n",
       "      <td>0.227305</td>\n",
       "      <td>6.997404</td>\n",
       "      <td>1.234453</td>\n",
       "      <td>940.166653</td>\n",
       "    </tr>\n",
       "    <tr>\n",
       "      <th>std</th>\n",
       "      <td>0.713395</td>\n",
       "      <td>2.451538</td>\n",
       "      <td>0.020981</td>\n",
       "      <td>1217.553222</td>\n",
       "    </tr>\n",
       "    <tr>\n",
       "      <th>min</th>\n",
       "      <td>0.000000</td>\n",
       "      <td>4.120000</td>\n",
       "      <td>1.149262</td>\n",
       "      <td>126.910000</td>\n",
       "    </tr>\n",
       "    <tr>\n",
       "      <th>25%</th>\n",
       "      <td>0.000000</td>\n",
       "      <td>5.140000</td>\n",
       "      <td>1.219471</td>\n",
       "      <td>262.260000</td>\n",
       "    </tr>\n",
       "    <tr>\n",
       "      <th>50%</th>\n",
       "      <td>0.000000</td>\n",
       "      <td>6.690000</td>\n",
       "      <td>1.232954</td>\n",
       "      <td>565.100000</td>\n",
       "    </tr>\n",
       "    <tr>\n",
       "      <th>75%</th>\n",
       "      <td>0.100000</td>\n",
       "      <td>8.230000</td>\n",
       "      <td>1.248258</td>\n",
       "      <td>1086.190000</td>\n",
       "    </tr>\n",
       "    <tr>\n",
       "      <th>max</th>\n",
       "      <td>36.200001</td>\n",
       "      <td>24.690001</td>\n",
       "      <td>1.334665</td>\n",
       "      <td>28606.730000</td>\n",
       "    </tr>\n",
       "  </tbody>\n",
       "</table>\n",
       "</div>"
      ],
      "text/plain": [
       "                rain       wdsp_m/s    air_density       power_kw\n",
       "count  451142.000000  451169.000000  451137.000000  451137.000000\n",
       "mean        0.227305       6.997404       1.234453     940.166653\n",
       "std         0.713395       2.451538       0.020981    1217.553222\n",
       "min         0.000000       4.120000       1.149262     126.910000\n",
       "25%         0.000000       5.140000       1.219471     262.260000\n",
       "50%         0.000000       6.690000       1.232954     565.100000\n",
       "75%         0.100000       8.230000       1.248258    1086.190000\n",
       "max        36.200001      24.690001       1.334665   28606.730000"
      ]
     },
     "execution_count": 39,
     "metadata": {},
     "output_type": "execute_result"
    }
   ],
   "source": [
    "summary_stats = df_working_valentia[['rain', 'wdsp_m/s', 'air_density', 'power_kw']].describe()\n",
    "summary_stats"
   ]
  },
  {
   "cell_type": "markdown",
   "metadata": {},
   "source": [
    "**Plotting summary statistics with log scale for y-axis**\n",
    "\n",
    "The _power output_ value is too big comparing to other data in the dataset so I am using log scale measuring for y-axis."
   ]
  },
  {
   "cell_type": "code",
   "execution_count": null,
   "metadata": {},
   "outputs": [
    {
     "data": {
      "text/plain": [
       "<Figure size 800x600 with 0 Axes>"
      ]
     },
     "metadata": {},
     "output_type": "display_data"
    },
    {
     "data": {
      "image/png": "[encoded data removed]",
      "text/plain": [
       "<Figure size 1400x700 with 1 Axes>"
      ]
     },
     "metadata": {},
     "output_type": "display_data"
    }
   ],
   "source": [
    "# Transpose for easier plotting (columns become rows)\n",
    "summary_stats = summary_stats.transpose()\n",
    "\n",
    "# Set figure size.\n",
    "plt.figure(figsize=(8, 6))\n",
    "\n",
    "# Bar plot for mean, min, max\n",
    "summary_stats[['mean', 'std', 'min', '25%', '50%', '75%', 'max']].plot(kind='bar', figsize=(14, 7), width=0.8, alpha=0.75)\n",
    "\n",
    "# Set y-axis to logarithmic scale\n",
    "plt.yscale('log')\n",
    "\n",
    "# Adding labels and title\n",
    "plt.title('Summary Statistics of Valentia', fontsize=16)\n",
    "plt.ylabel('Values (Log Scale)', fontsize=14)\n",
    "plt.xlabel('Valentia DataFrame Variables', fontsize=14)\n",
    "plt.xticks(rotation=45, fontsize=12)\n",
    "plt.legend(title='Statistics', fontsize=12)\n",
    "plt.grid(axis='y', linestyle='--', alpha=0.7)\n",
    "\n",
    "# Show the plot\n",
    "plt.tight_layout()\n",
    "plt.show()\n"
   ]
  },
  {
   "cell_type": "code",
   "execution_count": 23,
   "metadata": {},
   "outputs": [
    {
     "data": {
      "image/png": "[encoded data removed]",
      "text/plain": [
       "<Figure size 800x600 with 1 Axes>"
      ]
     },
     "metadata": {},
     "output_type": "display_data"
    }
   ],
   "source": [
    "# Plot violin plot for each variable\n",
    "plt.figure(figsize=(8, 6))\n",
    "sns.violinplot(data=df_working_valentia[['rain', 'wdsp_m/s', 'air_density', 'power_kw']])\n",
    "\n",
    "# Set y-axis to logarithmic scale\n",
    "plt.yscale('log')\n",
    "\n",
    "# Adding labels and title\n",
    "plt.title('Violin Plot for Weather and Power Data', fontsize=16)\n",
    "plt.ylabel('Values', fontsize=14)\n",
    "plt.xlabel('Variables', fontsize=14)\n",
    "plt.xticks(rotation=45, fontsize=12)\n",
    "\n",
    "# Show the plot\n",
    "plt.tight_layout()\n",
    "plt.show()\n"
   ]
  },
  {
   "cell_type": "code",
   "execution_count": 24,
   "metadata": {},
   "outputs": [
    {
     "data": {
      "text/plain": [
       "date\n",
       "1944-01-01    23\n",
       "1944-01-02    24\n",
       "1944-01-03    24\n",
       "1944-01-04     4\n",
       "1944-01-05    24\n",
       "              ..\n",
       "2024-11-27     4\n",
       "2024-11-28    24\n",
       "2024-11-29    24\n",
       "2024-11-30    24\n",
       "2024-12-01     1\n",
       "Freq: D, Length: 29556, dtype: int64"
      ]
     },
     "execution_count": 24,
     "metadata": {},
     "output_type": "execute_result"
    }
   ],
   "source": [
    "# Count the number of occurrences (hours) per day\n",
    "hours_per_day = group_by_dataset(df_working_valentia, time='D')\n",
    "hours_per_day"
   ]
  },
  {
   "cell_type": "code",
   "execution_count": 25,
   "metadata": {},
   "outputs": [
    {
     "data": {
      "text/plain": [
       "date\n",
       "1944-01-02     47\n",
       "1944-01-09    120\n",
       "1944-01-16    152\n",
       "1944-01-23    151\n",
       "1944-01-30    168\n",
       "             ... \n",
       "2024-11-03     16\n",
       "2024-11-10    111\n",
       "2024-11-17     28\n",
       "2024-11-24    122\n",
       "2024-12-01     93\n",
       "Freq: W-SUN, Length: 4223, dtype: int64"
      ]
     },
     "execution_count": 25,
     "metadata": {},
     "output_type": "execute_result"
    }
   ],
   "source": [
    "hours_per_week = group_by_dataset(df_working_valentia, time='W')\n",
    "hours_per_week"
   ]
  },
  {
   "cell_type": "code",
   "execution_count": 26,
   "metadata": {},
   "outputs": [
    {
     "data": {
      "text/plain": [
       "date\n",
       "1944-01-31    658\n",
       "1944-02-29    522\n",
       "1944-03-31    421\n",
       "1944-04-30    494\n",
       "1944-05-31    478\n",
       "             ... \n",
       "2024-08-31    559\n",
       "2024-09-30    375\n",
       "2024-10-31    433\n",
       "2024-11-30    353\n",
       "2024-12-31      1\n",
       "Freq: ME, Length: 972, dtype: int64"
      ]
     },
     "execution_count": 26,
     "metadata": {},
     "output_type": "execute_result"
    }
   ],
   "source": [
    "hours_per_month = group_by_dataset(df_working_valentia, time='ME')\n",
    "hours_per_month"
   ]
  },
  {
   "cell_type": "code",
   "execution_count": 27,
   "metadata": {},
   "outputs": [
    {
     "data": {
      "text/plain": [
       "date\n",
       "1944-12-31    6180\n",
       "1945-12-31    6147\n",
       "1946-12-31    6275\n",
       "1947-12-31    6085\n",
       "1948-12-31    6393\n",
       "              ... \n",
       "2020-12-31    5548\n",
       "2021-12-31    4723\n",
       "2022-12-31    5124\n",
       "2023-12-31    5417\n",
       "2024-12-31    4762\n",
       "Freq: YE-DEC, Length: 81, dtype: int64"
      ]
     },
     "execution_count": 27,
     "metadata": {},
     "output_type": "execute_result"
    }
   ],
   "source": [
    "hours_per_year = group_by_dataset(df_working_valentia, time='YE')\n",
    "hours_per_year"
   ]
  },
  {
   "cell_type": "code",
   "execution_count": 28,
   "metadata": {},
   "outputs": [
    {
     "data": {
      "text/plain": [
       "decade\n",
       "1940    37076\n",
       "1950    54868\n",
       "1960    58715\n",
       "1970    59537\n",
       "1980    61111\n",
       "1990    51693\n",
       "2000    50417\n",
       "2010    52178\n",
       "2020    25574\n",
       "dtype: int64"
      ]
     },
     "execution_count": 28,
     "metadata": {},
     "output_type": "execute_result"
    }
   ],
   "source": [
    "hours_per_decade = group_by_dataset(df_working_valentia, time='decade')\n",
    "hours_per_decade"
   ]
  },
  {
   "cell_type": "code",
   "execution_count": 29,
   "metadata": {},
   "outputs": [
    {
     "data": {
      "image/png": "[encoded data removed]",
      "text/plain": [
       "<Figure size 1000x600 with 1 Axes>"
      ]
     },
     "metadata": {},
     "output_type": "display_data"
    }
   ],
   "source": [
    "# Plot the data\n",
    "plt.figure(figsize=(10, 6))  # Optional: specify the figure size\n",
    "hours_per_year.plot(kind='bar', color='skyblue', edgecolor='black')  # Bar chart for daily hours\n",
    "\n",
    "# Set the title and labels\n",
    "plt.title('Hours with Wind Speed Between 3.5 m/s and 25 m/s per Year', fontsize=14)\n",
    "plt.xlabel('Date', fontsize=12)\n",
    "plt.ylabel('Number of Hours', fontsize=12)\n",
    "\n",
    "# Show the plot\n",
    "plt.xticks(rotation=45)  # Optional: rotate x-axis labels for better readability\n",
    "plt.tight_layout()  # Optional: adjust layout to make it look better\n",
    "plt.show()\n"
   ]
  },
  {
   "cell_type": "code",
   "execution_count": 30,
   "metadata": {},
   "outputs": [
    {
     "data": {
      "image/png": "[encoded data removed]",
      "text/plain": [
       "<Figure size 1000x600 with 1 Axes>"
      ]
     },
     "metadata": {},
     "output_type": "display_data"
    }
   ],
   "source": [
    "# Plot the data by decade using seaborn\n",
    "sns.set(style=\"whitegrid\")\n",
    "plt.figure(figsize=(10, 6))\n",
    "sns.barplot(x=hours_per_decade.index, y=hours_per_decade.values, color='skyblue')\n",
    "\n",
    "# Customize the plot with title and labels\n",
    "plt.title('Total Hours Between Cut-In and Cut-Out Wind Speed by Decade', fontsize=16)\n",
    "plt.xlabel('Decade', fontsize=14)\n",
    "plt.ylabel('Total Hours', fontsize=14)\n",
    "\n",
    "# Rotate x-axis labels if needed\n",
    "plt.xticks(rotation=45)\n",
    "\n",
    "# Show the plot\n",
    "plt.tight_layout()\n",
    "plt.show()"
   ]
  },
  {
   "cell_type": "code",
   "execution_count": 31,
   "metadata": {},
   "outputs": [
    {
     "data": {
      "text/plain": [
       "date\n",
       "1944-12-31    70.5\n",
       "1945-12-31    70.2\n",
       "1946-12-31    71.6\n",
       "1947-12-31    69.5\n",
       "1948-12-31    73.0\n",
       "              ... \n",
       "2020-12-31    63.3\n",
       "2021-12-31    53.9\n",
       "2022-12-31    58.5\n",
       "2023-12-31    61.8\n",
       "2024-12-31    54.4\n",
       "Freq: YE-DEC, Length: 81, dtype: float64"
      ]
     },
     "execution_count": 31,
     "metadata": {},
     "output_type": "execute_result"
    }
   ],
   "source": [
    "# Calculate total hours in a year (considering leap years, assuming 8760 or 8784 hours)\n",
    "total_hours_in_year = 8760\n",
    "    \n",
    "    # Calculate the percentage of the year\n",
    "percentage_of_year = ((hours_per_year / total_hours_in_year) * 100).round(1)\n",
    "percentage_of_year"
   ]
  },
  {
   "cell_type": "markdown",
   "metadata": {},
   "source": [
    "Example Estimation:\n",
    "If we assume:\n",
    "\n",
    "Cut-in wind speed = 4 m/s\n",
    "Cut-out wind speed = 25 m/s\n",
    "Rated wind speed = 12 m/s\n",
    "Capacity factor = 30% (a reasonable average for a good location)"
   ]
  },
  {
   "cell_type": "code",
   "execution_count": 32,
   "metadata": {},
   "outputs": [
    {
     "data": {
      "text/html": [
       "<div>\n",
       "<style scoped>\n",
       "    .dataframe tbody tr th:only-of-type {\n",
       "        vertical-align: middle;\n",
       "    }\n",
       "\n",
       "    .dataframe tbody tr th {\n",
       "        vertical-align: top;\n",
       "    }\n",
       "\n",
       "    .dataframe thead th {\n",
       "        text-align: right;\n",
       "    }\n",
       "</style>\n",
       "<table border=\"1\" class=\"dataframe\">\n",
       "  <thead>\n",
       "    <tr style=\"text-align: right;\">\n",
       "      <th></th>\n",
       "      <th>rain</th>\n",
       "      <th>wdsp_m/s</th>\n",
       "      <th>air_density</th>\n",
       "      <th>power_kw</th>\n",
       "    </tr>\n",
       "    <tr>\n",
       "      <th>date</th>\n",
       "      <th></th>\n",
       "      <th></th>\n",
       "      <th></th>\n",
       "      <th></th>\n",
       "    </tr>\n",
       "  </thead>\n",
       "  <tbody>\n",
       "    <tr>\n",
       "      <th>1944-01-20 10:00:00</th>\n",
       "      <td>0.7</td>\n",
       "      <td>14.920000</td>\n",
       "      <td>1.252300</td>\n",
       "      <td>6533.33</td>\n",
       "    </tr>\n",
       "    <tr>\n",
       "      <th>1944-01-21 18:00:00</th>\n",
       "      <td>1.0</td>\n",
       "      <td>15.950000</td>\n",
       "      <td>1.251436</td>\n",
       "      <td>7976.47</td>\n",
       "    </tr>\n",
       "    <tr>\n",
       "      <th>1944-01-21 19:00:00</th>\n",
       "      <td>0.7</td>\n",
       "      <td>15.430000</td>\n",
       "      <td>1.247742</td>\n",
       "      <td>7200.16</td>\n",
       "    </tr>\n",
       "    <tr>\n",
       "      <th>1944-01-21 20:00:00</th>\n",
       "      <td>0.1</td>\n",
       "      <td>14.400000</td>\n",
       "      <td>1.245805</td>\n",
       "      <td>5843.29</td>\n",
       "    </tr>\n",
       "    <tr>\n",
       "      <th>1944-01-21 21:00:00</th>\n",
       "      <td>0.3</td>\n",
       "      <td>15.430000</td>\n",
       "      <td>1.241843</td>\n",
       "      <td>7166.12</td>\n",
       "    </tr>\n",
       "    <tr>\n",
       "      <th>...</th>\n",
       "      <td>...</td>\n",
       "      <td>...</td>\n",
       "      <td>...</td>\n",
       "      <td>...</td>\n",
       "    </tr>\n",
       "    <tr>\n",
       "      <th>2024-10-20 12:00:00</th>\n",
       "      <td>0.0</td>\n",
       "      <td>17.490000</td>\n",
       "      <td>1.197932</td>\n",
       "      <td>10067.50</td>\n",
       "    </tr>\n",
       "    <tr>\n",
       "      <th>2024-10-20 13:00:00</th>\n",
       "      <td>0.0</td>\n",
       "      <td>16.980000</td>\n",
       "      <td>1.200419</td>\n",
       "      <td>9231.36</td>\n",
       "    </tr>\n",
       "    <tr>\n",
       "      <th>2024-10-20 14:00:00</th>\n",
       "      <td>0.1</td>\n",
       "      <td>16.459999</td>\n",
       "      <td>1.204689</td>\n",
       "      <td>8438.87</td>\n",
       "    </tr>\n",
       "    <tr>\n",
       "      <th>2024-10-20 15:00:00</th>\n",
       "      <td>0.1</td>\n",
       "      <td>15.950000</td>\n",
       "      <td>1.207433</td>\n",
       "      <td>7696.00</td>\n",
       "    </tr>\n",
       "    <tr>\n",
       "      <th>2024-10-20 16:00:00</th>\n",
       "      <td>0.6</td>\n",
       "      <td>14.920000</td>\n",
       "      <td>1.210712</td>\n",
       "      <td>6316.37</td>\n",
       "    </tr>\n",
       "  </tbody>\n",
       "</table>\n",
       "<p>5730 rows × 4 columns</p>\n",
       "</div>"
      ],
      "text/plain": [
       "                     rain   wdsp_m/s  air_density  power_kw\n",
       "date                                                       \n",
       "1944-01-20 10:00:00   0.7  14.920000     1.252300   6533.33\n",
       "1944-01-21 18:00:00   1.0  15.950000     1.251436   7976.47\n",
       "1944-01-21 19:00:00   0.7  15.430000     1.247742   7200.16\n",
       "1944-01-21 20:00:00   0.1  14.400000     1.245805   5843.29\n",
       "1944-01-21 21:00:00   0.3  15.430000     1.241843   7166.12\n",
       "...                   ...        ...          ...       ...\n",
       "2024-10-20 12:00:00   0.0  17.490000     1.197932  10067.50\n",
       "2024-10-20 13:00:00   0.0  16.980000     1.200419   9231.36\n",
       "2024-10-20 14:00:00   0.1  16.459999     1.204689   8438.87\n",
       "2024-10-20 15:00:00   0.1  15.950000     1.207433   7696.00\n",
       "2024-10-20 16:00:00   0.6  14.920000     1.210712   6316.37\n",
       "\n",
       "[5730 rows x 4 columns]"
      ]
     },
     "execution_count": 32,
     "metadata": {},
     "output_type": "execute_result"
    }
   ],
   "source": [
    "df_optimal_valentia = df_valentia[(df_valentia['wdsp_m/s'] >= 14) & (df_valentia['wdsp_m/s'] < 25)]\n",
    "df_optimal_valentia"
   ]
  },
  {
   "cell_type": "code",
   "execution_count": 33,
   "metadata": {},
   "outputs": [
    {
     "data": {
      "text/plain": [
       "date\n",
       "1944-12-31     99\n",
       "1945-12-31     81\n",
       "1946-12-31     72\n",
       "1947-12-31    148\n",
       "1948-12-31    101\n",
       "             ... \n",
       "2020-12-31     76\n",
       "2021-12-31     38\n",
       "2022-12-31     36\n",
       "2023-12-31     23\n",
       "2024-12-31     35\n",
       "Freq: YE-DEC, Length: 81, dtype: int64"
      ]
     },
     "execution_count": 33,
     "metadata": {},
     "output_type": "execute_result"
    }
   ],
   "source": [
    "best_hours_per_year = group_by_dataset(df_optimal_valentia, time='YE')\n",
    "best_hours_per_year"
   ]
  },
  {
   "cell_type": "code",
   "execution_count": 34,
   "metadata": {},
   "outputs": [
    {
     "data": {
      "text/plain": [
       "date\n",
       "1944-12-31    1.130137\n",
       "1945-12-31    0.924658\n",
       "1946-12-31    0.821918\n",
       "1947-12-31    1.689498\n",
       "1948-12-31    1.152968\n",
       "                ...   \n",
       "2020-12-31    0.867580\n",
       "2021-12-31    0.433790\n",
       "2022-12-31    0.410959\n",
       "2023-12-31    0.262557\n",
       "2024-12-31    0.399543\n",
       "Freq: YE-DEC, Length: 81, dtype: float64"
      ]
     },
     "execution_count": 34,
     "metadata": {},
     "output_type": "execute_result"
    }
   ],
   "source": [
    "# Calculate the percentage of the year\n",
    "best_percentage_of_year = (best_hours_per_year / total_hours_in_year) * 100\n",
    "best_percentage_of_year"
   ]
  }
 ],
 "metadata": {
  "kernelspec": {
   "display_name": "base",
   "language": "python",
   "name": "python3"
  },
  "language_info": {
   "codemirror_mode": {
    "name": "ipython",
    "version": 3
   },
   "file_extension": ".py",
   "mimetype": "text/x-python",
   "name": "python",
   "nbconvert_exporter": "python",
   "pygments_lexer": "ipython3",
   "version": "3.12.7"
  }
 },
 "nbformat": 4,
 "nbformat_minor": 2
}
